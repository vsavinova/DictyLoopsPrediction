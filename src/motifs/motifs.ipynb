{
 "cells": [
  {
   "cell_type": "markdown",
   "metadata": {},
   "source": [
    "# Преобразование PWM для autosome-софта"
   ]
  },
  {
   "cell_type": "code",
   "execution_count": 1,
   "metadata": {
    "collapsed": true
   },
   "outputs": [
    {
     "name": "stdout",
     "output_type": "stream",
     "text": [
      "DDB_G0275333_M0101_1.02\n",
      "bzpD_M0284_1.02\n",
      "bzpF_M0285_1.02\n",
      "bzpH_M0283_1.02\n",
      "bzpJ_M0282_1.02\n",
      "bzpO_M0287_1.02\n",
      "bzpQ_M0286_1.02\n",
      "bzpS_M0288_1.02\n",
      "dimB_M0289_1.02\n",
      "E2F_M0666_1.02\n",
      "gtaC_M0776_1.02\n",
      "gtaE_M0773_1.02\n",
      "gtaG_M0774_1.02\n",
      "gtaH_M0777_1.02\n",
      "gtaI_M0779_1.02\n",
      "gtaL_M0780_1.02\n",
      "gtaN_M0781_1.02\n",
      "gtaT_M0778_1.02\n",
      "stkA_M0775_1.02\n",
      "hbx10_M0878_1.02\n",
      "hbx2_M0875_1.02\n",
      "hbx4_M0872_1.02\n",
      "hbx5-1_M0873_1.02\n",
      "hbx5-2_M0874_1.02\n",
      "hbx7_M0876_1.02\n",
      "hbx9_M0877_1.02\n",
      "srfA_M1297_1.02\n",
      "mybA_M1354_1.02\n",
      "mybAA_M1347_1.02\n",
      "mybE_M1349_1.02\n",
      "mybG_M1351_1.02\n",
      "mybI_M1352_1.02\n",
      "mybQ_M1353_1.02\n",
      "mybV_M1348_1.02\n",
      "mybZ_M1350_1.02\n",
      "gbfA_M1673_1.02\n",
      "gbfA_M2427_1.02\n",
      "DDB_G0270590_M1714_1.02\n"
     ]
    }
   ],
   "source": [
    "tf_name_pattern = 'TF Name'\n",
    "motif_name_pattern = 'Motif'\n",
    "matrix_pattern = 'Pos'\n",
    "filename = ''\n",
    "pfm = ''\n",
    "with open(\"../data/motifs/CisBP/PWM.txt\") as data:\n",
    "    for line in data:\n",
    "        if line.startswith(tf_name_pattern):\n",
    "            filename = line[line.index(tf_name_pattern) + len(tf_name_pattern) + 1 : -1]\n",
    "            continue\n",
    "        if line.startswith(motif_name_pattern):\n",
    "            filename = filename + '_' + line[line.index(motif_name_pattern) + len(motif_name_pattern) + 1 :-1]            \n",
    "            print filename\n",
    "            continue\n",
    "        \n",
    "        if line.startswith(matrix_pattern):\n",
    "            line = data.next()\n",
    "            with open('../data/motifs/pwm/' + filename + '.pfm', 'w') as out:\n",
    "                while (line != '\\n'):\n",
    "                    line = line.replace('\\n', '')\n",
    "                    freqs = line.split('\\t')\n",
    "                    out_line = ''\n",
    "                    for freq in freqs[1 :]:\n",
    "                        out_line = out_line + freq + '\\t'\n",
    "                    out_line = out_line + '\\n'\n",
    "                    out.write(out_line)\n",
    "                    line = data.next()"
   ]
  },
  {
   "cell_type": "markdown",
   "metadata": {},
   "source": [
    "# Ищем совпадения между мотивами и петлями"
   ]
  },
  {
   "cell_type": "code",
   "execution_count": 2,
   "metadata": {
    "collapsed": true
   },
   "outputs": [],
   "source": [
    "import pandas as pd\n",
    "import glob\n",
    "import numpy as np"
   ]
  },
  {
   "cell_type": "code",
   "execution_count": 4,
   "metadata": {
    "collapsed": true
   },
   "outputs": [],
   "source": [
    "loops_info = pd.read_excel('../../data/dicty_loop_positions_Chr1_Chr6.xlsx')"
   ]
  },
  {
   "cell_type": "code",
   "execution_count": 5,
   "metadata": {
    "scrolled": false
   },
   "outputs": [
    {
     "data": {
      "text/html": [
       "<div>\n",
       "<style scoped>\n",
       "    .dataframe tbody tr th:only-of-type {\n",
       "        vertical-align: middle;\n",
       "    }\n",
       "\n",
       "    .dataframe tbody tr th {\n",
       "        vertical-align: top;\n",
       "    }\n",
       "\n",
       "    .dataframe thead th {\n",
       "        text-align: right;\n",
       "    }\n",
       "</style>\n",
       "<table border=\"1\" class=\"dataframe\">\n",
       "  <thead>\n",
       "    <tr style=\"text-align: right;\">\n",
       "      <th></th>\n",
       "      <th>Chr</th>\n",
       "      <th>ID</th>\n",
       "      <th>Genomic bin, Left base</th>\n",
       "      <th>Genomic bin, Right base</th>\n",
       "      <th>Size (Kb)</th>\n",
       "      <th>\"Extrusion track\"</th>\n",
       "      <th>Note for extrusion tracks: 0=n/a, 1=from the left base, 2=from the right base</th>\n",
       "    </tr>\n",
       "  </thead>\n",
       "  <tbody>\n",
       "    <tr>\n",
       "      <th>0</th>\n",
       "      <td>1</td>\n",
       "      <td>1</td>\n",
       "      <td>107</td>\n",
       "      <td>114</td>\n",
       "      <td>16</td>\n",
       "      <td>0</td>\n",
       "      <td>NaN</td>\n",
       "    </tr>\n",
       "    <tr>\n",
       "      <th>1</th>\n",
       "      <td>1</td>\n",
       "      <td>2</td>\n",
       "      <td>114</td>\n",
       "      <td>123</td>\n",
       "      <td>20</td>\n",
       "      <td>1</td>\n",
       "      <td>NaN</td>\n",
       "    </tr>\n",
       "    <tr>\n",
       "      <th>2</th>\n",
       "      <td>1</td>\n",
       "      <td>3</td>\n",
       "      <td>176</td>\n",
       "      <td>187</td>\n",
       "      <td>24</td>\n",
       "      <td>2</td>\n",
       "      <td>NaN</td>\n",
       "    </tr>\n",
       "    <tr>\n",
       "      <th>3</th>\n",
       "      <td>1</td>\n",
       "      <td>4</td>\n",
       "      <td>187</td>\n",
       "      <td>194</td>\n",
       "      <td>16</td>\n",
       "      <td>0</td>\n",
       "      <td>NaN</td>\n",
       "    </tr>\n",
       "    <tr>\n",
       "      <th>4</th>\n",
       "      <td>1</td>\n",
       "      <td>5</td>\n",
       "      <td>194</td>\n",
       "      <td>209</td>\n",
       "      <td>32</td>\n",
       "      <td>2</td>\n",
       "      <td>NaN</td>\n",
       "    </tr>\n",
       "  </tbody>\n",
       "</table>\n",
       "</div>"
      ],
      "text/plain": [
       "   Chr  ID  Genomic bin, Left base  Genomic bin, Right base  Size (Kb)  \\\n",
       "0    1   1                     107                      114         16   \n",
       "1    1   2                     114                      123         20   \n",
       "2    1   3                     176                      187         24   \n",
       "3    1   4                     187                      194         16   \n",
       "4    1   5                     194                      209         32   \n",
       "\n",
       "   \"Extrusion track\"  \\\n",
       "0                  0   \n",
       "1                  1   \n",
       "2                  2   \n",
       "3                  0   \n",
       "4                  2   \n",
       "\n",
       "   Note for extrusion tracks: 0=n/a, 1=from the left base, 2=from the right base  \n",
       "0                                                NaN                              \n",
       "1                                                NaN                              \n",
       "2                                                NaN                              \n",
       "3                                                NaN                              \n",
       "4                                                NaN                              "
      ]
     },
     "execution_count": 5,
     "metadata": {},
     "output_type": "execute_result"
    }
   ],
   "source": [
    "loops_info.head()"
   ]
  },
  {
   "cell_type": "code",
   "execution_count": 8,
   "metadata": {},
   "outputs": [
    {
     "data": {
      "text/plain": [
       "['chr1', 'chr6']"
      ]
     },
     "execution_count": 8,
     "metadata": {},
     "output_type": "execute_result"
    }
   ],
   "source": [
    "chr_with_loops = sorted(loops_info.Chr.unique())\n",
    "chr_with_loops = ['chr' + str(chr) for chr in chr_with_loops]\n",
    "chr_with_loops"
   ]
  },
  {
   "cell_type": "code",
   "execution_count": 9,
   "metadata": {},
   "outputs": [
    {
     "name": "stderr",
     "output_type": "stream",
     "text": [
      "/Users/victoria/anaconda2/lib/python2.7/site-packages/ipykernel_launcher.py:2: SettingWithCopyWarning: \n",
      "A value is trying to be set on a copy of a slice from a DataFrame.\n",
      "Try using .loc[row_indexer,col_indexer] = value instead\n",
      "\n",
      "See the caveats in the documentation: http://pandas.pydata.org/pandas-docs/stable/indexing.html#indexing-view-versus-copy\n",
      "  \n"
     ]
    }
   ],
   "source": [
    "df = loops_info[['Chr', 'Genomic bin, Left base']]\n",
    "df['Type'] = 'loop'"
   ]
  },
  {
   "cell_type": "code",
   "execution_count": 3,
   "metadata": {
    "collapsed": true
   },
   "outputs": [],
   "source": [
    "# Новые данные\n",
    "loops_info = pd.DataFrame(columns=['Chr', 'Genomic bin, Left base', 'Genomic bin, Right base'])\n",
    "dr = '../../data/loops/'\n",
    "for i in range(1, 7):\n",
    "    filename = dr + 'chr' + str(i) + '.csv'\n",
    "    with open(filename) as inp:\n",
    "        lines = inp.readlines()[1: ] # без heading\n",
    "        lines = [line.strip().split(',') for line in lines]\n",
    "        for line in lines:\n",
    "            loops_info = loops_info.append({'Chr': i, 'Genomic bin, Left base': int(float(line[1])), \\\n",
    "                                            'Genomic bin, Right base': int(float(line[0]))}, ignore_index = True)"
   ]
  },
  {
   "cell_type": "code",
   "execution_count": 4,
   "metadata": {},
   "outputs": [
    {
     "data": {
      "text/plain": [
       "['chr1', 'chr2', 'chr3', 'chr4', 'chr5', 'chr6']"
      ]
     },
     "execution_count": 4,
     "metadata": {},
     "output_type": "execute_result"
    }
   ],
   "source": [
    "chr_with_loops = ['chr' + str(i) for i in range(1,7)]\n",
    "chr_with_loops"
   ]
  },
  {
   "cell_type": "code",
   "execution_count": 5,
   "metadata": {
    "collapsed": true,
    "scrolled": true
   },
   "outputs": [],
   "source": [
    "loop_motif_dic = {}\n",
    "loop_motif_df = pd.DataFrame(columns=['Motif name', 'Frequency', 'Occuriencies around loops', 'Occuriencies in genome'])\n",
    "acc_dic = {}\n",
    "window = 2000\n",
    "for filename in glob.glob('../../data/motifs/tmp/*.bed'):\n",
    "    with open(filename) as f:\n",
    "        lines = [line.strip().split() for line in f.readlines()]\n",
    "        genome_occur = len(lines)\n",
    "        count_in_loops = 0\n",
    "        \n",
    "        lines = filter(lambda line: line[0] in chr_with_loops, lines)\n",
    "        chroms_occur = len(lines)\n",
    "        \n",
    "        acc_dic[filename] = [(line[0] + '_' + str(int(round(int(line[1]) / 2000)))) \\\n",
    "                         for line in lines \\\n",
    "                         if int(round(int(line[1]) / 2000)) in \\\n",
    "                         loops_info[loops_info['Chr'] == int(line[0][3])]['Genomic bin, Left base'].values]\n",
    "        \n",
    "        for line in lines:\n",
    "            chr_name = int(line[0][3])\n",
    "            motif_name = line[3][: line[3].index(';')]\n",
    "            for loop in loops_info[loops_info['Chr'] == chr_name].iterrows():\n",
    "                left_index = loop[1]['Genomic bin, Left base']\n",
    "                right_index = loop[1]['Genomic bin, Right base']\n",
    "                motif_index = int(round(int(line[1])/2000))\n",
    "                \n",
    "                motif_bp_index = int(line[1])\n",
    "                left_bp_index = loop[1]['Genomic bin, Left base'] * 2000\n",
    "                right_bp_index = loop[1]['Genomic bin, Right base'] * 2000\n",
    "                if ((motif_bp_index >= left_bp_index - window) and (motif_bp_index <= left_bp_index + window))\\\n",
    "                or ((motif_bp_index >= right_bp_index - window) and (motif_bp_index <= right_bp_index + window)):\n",
    "                    loop_label = 'Chr' + str(chr_name) + '_' + str(int(left_index)) + \\\n",
    "                                '_' + str(int(right_index)) + '_' + str(motif_index)\n",
    "                    tmp_dic = loop_motif_dic.get(loop_label, {})\n",
    "                    tmp_dic[motif_name] = tmp_dic.get(motif_name, 0) + 1\n",
    "                    loop_motif_dic[loop_label] = tmp_dic\n",
    "                    count_in_loops = count_in_loops + 1\n",
    "                    \n",
    "                s = line[0] + '_' + str(int(round(int(line[1]) / 2000)))\n",
    "                if motif_bp_index < left_bp_index - window:\n",
    "                    break\n",
    "                    \n",
    "    loop_motif_df = loop_motif_df.append({'Motif name': motif_name, \\\n",
    "                                          'Frequency': (count_in_loops * 1.0) / genome_occur, \\\n",
    "                                          'Occuriencies around loops': count_in_loops, \\\n",
    "                                          'Occuriencies in genome': genome_occur}, ignore_index=True)"
   ]
  },
  {
   "cell_type": "code",
   "execution_count": 67,
   "metadata": {
    "collapsed": true,
    "scrolled": true
   },
   "outputs": [],
   "source": [
    "motif_df = pd.DataFrame(columns=['Chr', 'Motif name', 'Motif pos'])\n",
    "for filename in glob.glob('../../data/motifs/tmp/*.bed'):\n",
    "    with open(filename) as f:\n",
    "        lines = [line.strip().split() for line in f.readlines()]\n",
    "        lines = filter(lambda line: line[0] in chr_with_loops, lines)\n",
    "        \n",
    "        for line in lines:\n",
    "            chr_name = int(line[0][3])\n",
    "            motif_name = line[3][: line[3].index(';')]\n",
    "            motif_bp_index = int(line[1])\n",
    "            motif_index = int(round(motif_bp_index/2000))    \n",
    "            \n",
    "            motif_df = motif_df.append({'Chr': line[0], 'Motif name': motif_name, \\\n",
    "                                        'Motif pos': motif_index}, ignore_index=True)"
   ]
  },
  {
   "cell_type": "code",
   "execution_count": 71,
   "metadata": {
    "collapsed": true
   },
   "outputs": [],
   "source": [
    "with open('../../data/motifs/motifs.csv', 'w') as out:\n",
    "    heading = 'Chr;Motif name;Motif pos\\n'\n",
    "    out.write(heading)\n",
    "    for _,row in motif_df.iterrows():\n",
    "        out.write(row[0] + ';' + str(row[1]) + ';' + str(row[2]) + '\\n')"
   ]
  },
  {
   "cell_type": "code",
   "execution_count": 65,
   "metadata": {},
   "outputs": [
    {
     "data": {
      "text/plain": [
       "['chr1', 'chr2', 'chr3', 'chr4', 'chr5', 'chr6']"
      ]
     },
     "execution_count": 65,
     "metadata": {},
     "output_type": "execute_result"
    }
   ],
   "source": [
    "chr_with_loops"
   ]
  },
  {
   "cell_type": "code",
   "execution_count": 40,
   "metadata": {
    "collapsed": true
   },
   "outputs": [],
   "source": [
    "detail_loop_df = pd.DataFrame(columns=['Chr', 'Left', 'Right', 'Motif pos', 'Motif name', 'Frequency', 'Occuriencies around loop', 'Occuriencies in genome'])\n",
    "for (pos, d) in loop_motif_dic.iteritems():\n",
    "    chrname = pos[ : pos.find('_')]\n",
    "    p = pos[ pos.find('_')+1 : ]\n",
    "    left = p[: p.find('_')]\n",
    "    p = pos[ pos.find('_')+1 : ]\n",
    "    right = p[: p.find('_')]\n",
    "    motif = p[p.find('_')+1 : ]\n",
    "    for (m_name, cnt) in d.iteritems():\n",
    "        genome_cnt = loop_motif_df[loop_motif_df['Motif name'] == m_name]['Occuriencies in genome'].values[0]\n",
    "        detail_loop_df = detail_loop_df.append({'Chr': chrname, \\\n",
    "                                                'Left': left, \\\n",
    "                                                'Right': right, \\\n",
    "                                                'Motif pos': motif, \\\n",
    "                                                'Motif name': m_name, \\\n",
    "                                                'Frequency': cnt * 1.0 / genome_cnt, \\\n",
    "                                                'Occuriencies around loop': cnt, \\\n",
    "                                                'Occuriencies in genome': genome_cnt}, ignore_index=True)"
   ]
  },
  {
   "cell_type": "markdown",
   "metadata": {},
   "source": [
    "# Графики"
   ]
  },
  {
   "cell_type": "code",
   "execution_count": 8,
   "metadata": {
    "collapsed": true
   },
   "outputs": [],
   "source": [
    "import seaborn as sns\n",
    "import matplotlib.pyplot as plt\n",
    "import scipy.stats as stat"
   ]
  },
  {
   "cell_type": "code",
   "execution_count": 58,
   "metadata": {
    "scrolled": false
   },
   "outputs": [
    {
     "data": {
      "image/png": "[encoded data removed]",
      "text/plain": [
       "<matplotlib.figure.Figure at 0x119615490>"
      ]
     },
     "metadata": {},
     "output_type": "display_data"
    }
   ],
   "source": [
    "sns.set(rc = {'figure.figsize':(15,8.27)})\n",
    "ax = sns.barplot(x='Motif name', y ='Frequency', \\\n",
    "                 data=loop_motif_df.sort_values(by='Frequency'))\n",
    "ax.set_xticklabels(labels = plt.xticks()[1], rotation=90)\n",
    "plt.show()"
   ]
  },
  {
   "cell_type": "code",
   "execution_count": 180,
   "metadata": {},
   "outputs": [
    {
     "data": {
      "text/html": [
       "<div>\n",
       "<style scoped>\n",
       "    .dataframe tbody tr th:only-of-type {\n",
       "        vertical-align: middle;\n",
       "    }\n",
       "\n",
       "    .dataframe tbody tr th {\n",
       "        vertical-align: top;\n",
       "    }\n",
       "\n",
       "    .dataframe thead th {\n",
       "        text-align: right;\n",
       "    }\n",
       "</style>\n",
       "<table border=\"1\" class=\"dataframe\">\n",
       "  <thead>\n",
       "    <tr style=\"text-align: right;\">\n",
       "      <th></th>\n",
       "      <th>Motif name</th>\n",
       "      <th>Frequency</th>\n",
       "      <th>Occuriencies around loops</th>\n",
       "      <th>Occuriencies in genome</th>\n",
       "    </tr>\n",
       "  </thead>\n",
       "  <tbody>\n",
       "    <tr>\n",
       "      <th>0</th>\n",
       "      <td>stkA_M0775_1.02</td>\n",
       "      <td>0.012007</td>\n",
       "      <td>7</td>\n",
       "      <td>583</td>\n",
       "    </tr>\n",
       "    <tr>\n",
       "      <th>1</th>\n",
       "      <td>gtaI_M0779_1.02</td>\n",
       "      <td>0.002770</td>\n",
       "      <td>1</td>\n",
       "      <td>361</td>\n",
       "    </tr>\n",
       "    <tr>\n",
       "      <th>2</th>\n",
       "      <td>gtaG_M0774_1.02</td>\n",
       "      <td>0.005780</td>\n",
       "      <td>1</td>\n",
       "      <td>173</td>\n",
       "    </tr>\n",
       "    <tr>\n",
       "      <th>3</th>\n",
       "      <td>bzpJ_M0282_1.02</td>\n",
       "      <td>0.012859</td>\n",
       "      <td>13</td>\n",
       "      <td>1011</td>\n",
       "    </tr>\n",
       "    <tr>\n",
       "      <th>4</th>\n",
       "      <td>bzpO_M0287_1.02</td>\n",
       "      <td>0.024510</td>\n",
       "      <td>5</td>\n",
       "      <td>204</td>\n",
       "    </tr>\n",
       "  </tbody>\n",
       "</table>\n",
       "</div>"
      ],
      "text/plain": [
       "        Motif name  Frequency Occuriencies around loops Occuriencies in genome\n",
       "0  stkA_M0775_1.02   0.012007                         7                    583\n",
       "1  gtaI_M0779_1.02   0.002770                         1                    361\n",
       "2  gtaG_M0774_1.02   0.005780                         1                    173\n",
       "3  bzpJ_M0282_1.02   0.012859                        13                   1011\n",
       "4  bzpO_M0287_1.02   0.024510                         5                    204"
      ]
     },
     "execution_count": 180,
     "metadata": {},
     "output_type": "execute_result"
    }
   ],
   "source": [
    "loop_motif_df.head()"
   ]
  },
  {
   "cell_type": "code",
   "execution_count": 138,
   "metadata": {
    "collapsed": true
   },
   "outputs": [],
   "source": [
    "with open('../data/motifs/motifs_around_loops.csv', 'w') as out:\n",
    "    heading = 'Motif name;Frequency;Occuriencies around loops;Occuriencies in genome\\n'\n",
    "    out.write(heading)\n",
    "    for row in loop_motif_df.iterrows():\n",
    "        s = '%s;%.5f;%d;%d\\n' % \\\n",
    "        (row[1]['Motif name'], row[1]['Frequency'], row[1]['Occuriencies around loops'], row[1]['Occuriencies in genome'])\n",
    "        out.write(s)"
   ]
  },
  {
   "cell_type": "code",
   "execution_count": 41,
   "metadata": {},
   "outputs": [
    {
     "data": {
      "text/html": [
       "<div>\n",
       "<style scoped>\n",
       "    .dataframe tbody tr th:only-of-type {\n",
       "        vertical-align: middle;\n",
       "    }\n",
       "\n",
       "    .dataframe tbody tr th {\n",
       "        vertical-align: top;\n",
       "    }\n",
       "\n",
       "    .dataframe thead th {\n",
       "        text-align: right;\n",
       "    }\n",
       "</style>\n",
       "<table border=\"1\" class=\"dataframe\">\n",
       "  <thead>\n",
       "    <tr style=\"text-align: right;\">\n",
       "      <th></th>\n",
       "      <th>Chr</th>\n",
       "      <th>Left</th>\n",
       "      <th>Right</th>\n",
       "      <th>Motif name</th>\n",
       "      <th>Frequency</th>\n",
       "      <th>Occuriencies around loop</th>\n",
       "      <th>Occuriencies in genome</th>\n",
       "    </tr>\n",
       "  </thead>\n",
       "  <tbody>\n",
       "    <tr>\n",
       "      <th>0</th>\n",
       "      <td>Chr2</td>\n",
       "      <td>223</td>\n",
       "      <td>242</td>\n",
       "      <td>hbx10_M0878_1.02</td>\n",
       "      <td>0.000320</td>\n",
       "      <td>1</td>\n",
       "      <td>3127</td>\n",
       "    </tr>\n",
       "    <tr>\n",
       "      <th>1</th>\n",
       "      <td>Chr6</td>\n",
       "      <td>715</td>\n",
       "      <td>721</td>\n",
       "      <td>mybG_M1351_1.02</td>\n",
       "      <td>0.000131</td>\n",
       "      <td>1</td>\n",
       "      <td>7662</td>\n",
       "    </tr>\n",
       "    <tr>\n",
       "      <th>2</th>\n",
       "      <td>Chr6</td>\n",
       "      <td>715</td>\n",
       "      <td>721</td>\n",
       "      <td>hbx5-1_M0873_1.02</td>\n",
       "      <td>0.000093</td>\n",
       "      <td>1</td>\n",
       "      <td>10702</td>\n",
       "    </tr>\n",
       "    <tr>\n",
       "      <th>3</th>\n",
       "      <td>Chr6</td>\n",
       "      <td>715</td>\n",
       "      <td>721</td>\n",
       "      <td>E2F_M0666_1.02</td>\n",
       "      <td>0.001256</td>\n",
       "      <td>1</td>\n",
       "      <td>796</td>\n",
       "    </tr>\n",
       "    <tr>\n",
       "      <th>4</th>\n",
       "      <td>Chr2</td>\n",
       "      <td>232</td>\n",
       "      <td>241</td>\n",
       "      <td>bzpH_M0283_1.02</td>\n",
       "      <td>0.000363</td>\n",
       "      <td>2</td>\n",
       "      <td>5514</td>\n",
       "    </tr>\n",
       "  </tbody>\n",
       "</table>\n",
       "</div>"
      ],
      "text/plain": [
       "    Chr Left Right         Motif name  Frequency Occuriencies around loop  \\\n",
       "0  Chr2  223   242   hbx10_M0878_1.02   0.000320                        1   \n",
       "1  Chr6  715   721    mybG_M1351_1.02   0.000131                        1   \n",
       "2  Chr6  715   721  hbx5-1_M0873_1.02   0.000093                        1   \n",
       "3  Chr6  715   721     E2F_M0666_1.02   0.001256                        1   \n",
       "4  Chr2  232   241    bzpH_M0283_1.02   0.000363                        2   \n",
       "\n",
       "  Occuriencies in genome  \n",
       "0                   3127  \n",
       "1                   7662  \n",
       "2                  10702  \n",
       "3                    796  \n",
       "4                   5514  "
      ]
     },
     "execution_count": 41,
     "metadata": {},
     "output_type": "execute_result"
    }
   ],
   "source": [
    "detail_loop_df.head()"
   ]
  },
  {
   "cell_type": "code",
   "execution_count": 53,
   "metadata": {
    "collapsed": true
   },
   "outputs": [],
   "source": [
    "with open('../../data/motifs/detail_motifs_around_loops.csv', 'w') as out:\n",
    "    heading = 'Chr;Left;Right;Motif name;Frequency;Occuriencies around loop;Occuriencies in genome\\n'\n",
    "    out.write(heading)\n",
    "    for row in detail_loop_df.iterrows():\n",
    "        s = '%s;%s;%s;%s;%.5f;%d;%d\\n' % \\\n",
    "        (row[1]['Chr'].lower(), row[1]['Left'], row[1]['Right'], row[1]['Motif name'], row[1]['Frequency'], row[1]['Occuriencies around loop'], row[1]['Occuriencies in genome'])\n",
    "        out.write(s)"
   ]
  }
 ],
 "metadata": {
  "kernelspec": {
   "display_name": "Python 2",
   "language": "python",
   "name": "python2"
  },
  "language_info": {
   "codemirror_mode": {
    "name": "ipython",
    "version": 2
   },
   "file_extension": ".py",
   "mimetype": "text/x-python",
   "name": "python",
   "nbconvert_exporter": "python",
   "pygments_lexer": "ipython2",
   "version": "2.7.15"
  }
 },
 "nbformat": 4,
 "nbformat_minor": 2
}
