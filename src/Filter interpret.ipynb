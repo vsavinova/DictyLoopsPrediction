{
 "cells": [
  {
   "cell_type": "code",
   "execution_count": 63,
   "metadata": {
    "collapsed": true
   },
   "outputs": [],
   "source": [
    "import numpy as np"
   ]
  },
  {
   "cell_type": "code",
   "execution_count": 153,
   "metadata": {
    "collapsed": true
   },
   "outputs": [],
   "source": [
    "def convert_arr_to_nuc(arr, pos = 'ACGT', max_dif=0.02):\n",
    "    nucs = []\n",
    "    max_nuc = max(arr)\n",
    "    for i in range(0,4):\n",
    "        nuc = pos[i]\n",
    "        if ((max_nuc - arr[i]) < max_dif):\n",
    "            nucs.append(nuc)\n",
    "    return nucs"
   ]
  },
  {
   "cell_type": "code",
   "execution_count": 154,
   "metadata": {
    "collapsed": true
   },
   "outputs": [],
   "source": [
    "def get_seqs_from_mtx_file(filename):\n",
    "    seqs = {}\n",
    "    with open(filename) as inp:\n",
    "        lines = inp.readlines()\n",
    "    for i in range(0, len(lines)):\n",
    "        line = lines[i]\n",
    "        if (line.find('Filter') != -1):\n",
    "            filter_name = line.replace('\\n', '').replace(' ', '')   \n",
    "            continue\n",
    "        if (line == '\\n') or (line.find('Pos') != -1) or (line.find('TF') != -1) or \\\n",
    "            (line.find('Gene') != -1) or \\\n",
    "            (line.find('Family') != -1) or (line.find('Species') != -1):\n",
    "            continue\n",
    "        if (line.find('Motif') != -1):\n",
    "            filter_name = line.replace('\\n', '').replace('\\t', '')[5:]\n",
    "            continue\n",
    "        filter_seq = seqs.get(filter_name, [])\n",
    "        line = line.replace('\\n', '')\n",
    "        nuc_values = [float(nv) for nv in line.split('\\t')[1:]]\n",
    "        nucs = convert_arr_to_nuc(nuc_values)\n",
    "        if len(filter_seq) != 0:\n",
    "            new_filter_seq = []\n",
    "            for fs in filter_seq:\n",
    "                for n in nucs:\n",
    "                    new_filter_seq.append(fs + n)\n",
    "            seqs[filter_name] = new_filter_seq\n",
    "        else:\n",
    "            seqs[filter_name] = nucs\n",
    "    return seqs"
   ]
  },
  {
   "cell_type": "code",
   "execution_count": 154,
   "metadata": {
    "collapsed": true
   },
   "outputs": [],
   "source": [
    "def get_seqs_from_mtx_file(filename):\n",
    "    seqs = {}\n",
    "    with open(filename) as inp:\n",
    "        lines = inp.readlines()\n",
    "    for i in range(0, len(lines)):\n",
    "        line = lines[i]\n",
    "        if (line.find('Filter') != -1):\n",
    "            filter_name = line.replace('\\n', '').replace(' ', '')   \n",
    "            continue\n",
    "        if (line == '\\n') or (line.find('Pos') != -1) or (line.find('TF') != -1) or \\\n",
    "            (line.find('Gene') != -1) or \\\n",
    "            (line.find('Family') != -1) or (line.find('Species') != -1):\n",
    "            continue\n",
    "        if (line.find('Motif') != -1):\n",
    "            filter_name = line.replace('\\n', '').replace('\\t', '')[5:]\n",
    "            continue\n",
    "        filter_seq = seqs.get(filter_name, [])\n",
    "        line = line.replace('\\n', '')\n",
    "        nuc_values = [float(nv) for nv in line.split('\\t')[1:]]\n",
    "        nucs = convert_arr_to_nuc(nuc_values)\n",
    "        if len(filter_seq) != 0:\n",
    "            new_filter_seq = []\n",
    "            for fs in filter_seq:\n",
    "                for n in nucs:\n",
    "                    new_filter_seq.append(fs + n)\n",
    "            seqs[filter_name] = new_filter_seq\n",
    "        else:\n",
    "            seqs[filter_name] = nucs\n",
    "    return seqs"
   ]
  },
  {
   "cell_type": "code",
   "execution_count": 196,
   "metadata": {},
   "outputs": [],
   "source": [
    "filter_seqs = get_seqs_from_mtx_file('../data/CNN/filters.txt')\n",
    "motif_seqs = get_seqs_from_mtx_file('../data/motifs/CisBP/PWM.txt')"
   ]
  },
  {
   "cell_type": "code",
   "execution_count": 197,
   "metadata": {
    "collapsed": true
   },
   "outputs": [],
   "source": [
    "max_cnt = 9\n",
    "max_fnames = []\n",
    "max_mnames = []\n",
    "m_f_names = {}\n",
    "for m_name, m_seqs in motif_seqs.iteritems():\n",
    "    for m_seq in m_seqs:\n",
    "        for f_name, f_seqs in filter_seqs.iteritems():\n",
    "            for f_seq in f_seqs:\n",
    "                if f_seq == m_seq:\n",
    "                    print f_name, m_name\n",
    "                shift = abs(len(m_seq) - len(f_seq))\n",
    "                if (len(f_seq) > len(m_seq)):\n",
    "                    s1 = f_seq\n",
    "                    s2 = m_seq\n",
    "                else:\n",
    "                    s1 = m_seq\n",
    "                    s2 = f_seq\n",
    "                for sh in range(0, shift+1):\n",
    "                    cnt = 0\n",
    "                    for i in range(0, min(len(m_seq), len(f_seq))):\n",
    "                        if s1[i+sh] == s2[i]:\n",
    "                            cnt = cnt + 1\n",
    "                    if (max_cnt - cnt) <= 2:\n",
    "                        fnames = m_f_names.get(m_name, [])\n",
    "                        fnames.append(f_name)\n",
    "                        m_f_names[m_name] = fnames\n",
    "                        max_fnames.append(f_name)\n",
    "                        max_mnames.append(m_name)"
   ]
  },
  {
   "cell_type": "code",
   "execution_count": 147,
   "metadata": {},
   "outputs": [
    {
     "data": {
      "text/plain": [
       "{'M0282_1.02': ['Filter49'],\n",
       " 'M0284_1.02': ['Filter12'],\n",
       " 'M0287_1.02': ['Filter84'],\n",
       " 'M0288_1.02': ['Filter27',\n",
       "  'Filter84',\n",
       "  'Filter27',\n",
       "  'Filter27',\n",
       "  'Filter27',\n",
       "  'Filter27'],\n",
       " 'M0666_1.02': ['Filter98'],\n",
       " 'M0872_1.02': ['Filter78', 'Filter78'],\n",
       " 'M0873_1.02': ['Filter39'],\n",
       " 'M0876_1.02': ['Filter102'],\n",
       " 'M0878_1.02': ['Filter37', 'Filter37'],\n",
       " 'M1297_1.02': ['Filter6'],\n",
       " 'M1348_1.02': ['Filter30', 'Filter30', 'Filter53', 'Filter53'],\n",
       " 'M1351_1.02': ['Filter68', 'Filter68', 'Filter25'],\n",
       " 'M1353_1.02': ['Filter102'],\n",
       " 'M1354_1.02': ['Filter65', 'Filter65', 'Filter65'],\n",
       " 'M1673_1.02': ['Filter75', 'Filter49']}"
      ]
     },
     "execution_count": 147,
     "metadata": {},
     "output_type": "execute_result"
    }
   ],
   "source": [
    "m_f_names"
   ]
  },
  {
   "cell_type": "code",
   "execution_count": 124,
   "metadata": {
    "scrolled": true
   },
   "outputs": [
    {
     "data": {
      "text/plain": [
       "['GTGCCACGT']"
      ]
     },
     "execution_count": 124,
     "metadata": {},
     "output_type": "execute_result"
    }
   ],
   "source": [
    "motif_seqs['M0282_1.02']"
   ]
  },
  {
   "cell_type": "code",
   "execution_count": 125,
   "metadata": {},
   "outputs": [
    {
     "data": {
      "text/plain": [
       "['GGGCCACTT']"
      ]
     },
     "execution_count": 125,
     "metadata": {},
     "output_type": "execute_result"
    }
   ],
   "source": [
    "filter_seqs['Filter49']"
   ]
  },
  {
   "cell_type": "code",
   "execution_count": 127,
   "metadata": {
    "scrolled": true
   },
   "outputs": [
    {
     "data": {
      "text/plain": [
       "['ATGACGTCAT']"
      ]
     },
     "execution_count": 127,
     "metadata": {},
     "output_type": "execute_result"
    }
   ],
   "source": [
    "motif_seqs['M0287_1.02']"
   ]
  },
  {
   "cell_type": "code",
   "execution_count": 126,
   "metadata": {},
   "outputs": [
    {
     "data": {
      "text/plain": [
       "['ACACGTCAT']"
      ]
     },
     "execution_count": 126,
     "metadata": {},
     "output_type": "execute_result"
    }
   ],
   "source": [
    "filter_seqs['Filter84']"
   ]
  },
  {
   "cell_type": "code",
   "execution_count": 131,
   "metadata": {
    "scrolled": false
   },
   "outputs": [
    {
     "data": {
      "text/plain": [
       "['ACGCGCGCCAA']"
      ]
     },
     "execution_count": 131,
     "metadata": {},
     "output_type": "execute_result"
    }
   ],
   "source": [
    "motif_seqs['M0666_1.02']"
   ]
  },
  {
   "cell_type": "code",
   "execution_count": 130,
   "metadata": {},
   "outputs": [
    {
     "data": {
      "text/plain": [
       "['GCGCAGCAA']"
      ]
     },
     "execution_count": 130,
     "metadata": {},
     "output_type": "execute_result"
    }
   ],
   "source": [
    "filter_seqs['Filter98']"
   ]
  },
  {
   "cell_type": "code",
   "execution_count": 132,
   "metadata": {
    "scrolled": false
   },
   "outputs": [
    {
     "data": {
      "text/plain": [
       "['ATTGACAGGT', 'TTTGACAGGT']"
      ]
     },
     "execution_count": 132,
     "metadata": {},
     "output_type": "execute_result"
    }
   ],
   "source": [
    "motif_seqs['M0872_1.02']"
   ]
  },
  {
   "cell_type": "code",
   "execution_count": 135,
   "metadata": {},
   "outputs": [
    {
     "data": {
      "text/plain": [
       "['TTGATGGGT']"
      ]
     },
     "execution_count": 135,
     "metadata": {},
     "output_type": "execute_result"
    }
   ],
   "source": [
    "filter_seqs['Filter78']"
   ]
  },
  {
   "cell_type": "code",
   "execution_count": 114,
   "metadata": {},
   "outputs": [
    {
     "data": {
      "text/plain": [
       "['CCAAATCGGG']"
      ]
     },
     "execution_count": 114,
     "metadata": {},
     "output_type": "execute_result"
    }
   ],
   "source": [
    "motif_seqs['M1297_1.02']"
   ]
  },
  {
   "cell_type": "code",
   "execution_count": 115,
   "metadata": {},
   "outputs": [
    {
     "data": {
      "text/plain": [
       "['CAAATCGGA']"
      ]
     },
     "execution_count": 115,
     "metadata": {},
     "output_type": "execute_result"
    }
   ],
   "source": [
    "filter_seqs['Filter6']"
   ]
  },
  {
   "cell_type": "code",
   "execution_count": 142,
   "metadata": {},
   "outputs": [
    {
     "data": {
      "text/plain": [
       "['GTAATATA']"
      ]
     },
     "execution_count": 142,
     "metadata": {},
     "output_type": "execute_result"
    }
   ],
   "source": [
    "motif_seqs['M0878_1.02']"
   ]
  },
  {
   "cell_type": "code",
   "execution_count": 143,
   "metadata": {
    "scrolled": true
   },
   "outputs": [
    {
     "data": {
      "text/plain": [
       "(['GGAAAATAA'], ['GTGATACAA', 'GTGATATAA', 'GTTATACAA', 'GTTATATAA'])"
      ]
     },
     "execution_count": 143,
     "metadata": {},
     "output_type": "execute_result"
    }
   ],
   "source": [
    "filter_seqs['Filter122'], filter_seqs['Filter37']"
   ]
  },
  {
   "cell_type": "code",
   "execution_count": 119,
   "metadata": {},
   "outputs": [
    {
     "data": {
      "text/plain": [
       "['CCAATCAA', 'TCAATCAA']"
      ]
     },
     "execution_count": 119,
     "metadata": {},
     "output_type": "execute_result"
    }
   ],
   "source": [
    "motif_seqs['M0873_1.02']"
   ]
  },
  {
   "cell_type": "code",
   "execution_count": 118,
   "metadata": {
    "scrolled": false
   },
   "outputs": [
    {
     "data": {
      "text/plain": [
       "['TTCAATCAT']"
      ]
     },
     "execution_count": 118,
     "metadata": {},
     "output_type": "execute_result"
    }
   ],
   "source": [
    "filter_seqs['Filter39']"
   ]
  },
  {
   "cell_type": "code",
   "execution_count": null,
   "metadata": {
    "collapsed": true
   },
   "outputs": [],
   "source": []
  }
 ],
 "metadata": {
  "kernelspec": {
   "display_name": "Python 2",
   "language": "python",
   "name": "python2"
  },
  "language_info": {
   "codemirror_mode": {
    "name": "ipython",
    "version": 2
   },
   "file_extension": ".py",
   "mimetype": "text/x-python",
   "name": "python",
   "nbconvert_exporter": "python",
   "pygments_lexer": "ipython2",
   "version": "2.7.15"
  }
 },
 "nbformat": 4,
 "nbformat_minor": 2
}
