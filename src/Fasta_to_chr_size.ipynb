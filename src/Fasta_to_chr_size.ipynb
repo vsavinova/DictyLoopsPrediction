{
 "cells": [
  {
   "cell_type": "markdown",
   "metadata": {},
   "source": [
    "# File .fasta to genome size"
   ]
  },
  {
   "cell_type": "code",
   "execution_count": 1,
   "metadata": {
    "collapsed": true
   },
   "outputs": [],
   "source": [
    "from Bio import SeqIO\n"
   ]
  },
  {
   "cell_type": "code",
   "execution_count": 9,
   "metadata": {
    "collapsed": true
   },
   "outputs": [],
   "source": [
    "fasta_sequences = SeqIO.parse(open('dicty_chromosomal'),'fasta')\n",
    "with open(\"sizes.txt\", \"w\") as chrom_sizes_file:\n",
    "    chrom_sizes = {}\n",
    "    chrom_name_def = \"Chromosome: \"\n",
    "    for fasta in fasta_sequences:\n",
    "        # Достаем имя хромосомы и последовательность\n",
    "        chrom = fasta.description\n",
    "        index = chrom.index(chrom_name_def) + len(chrom_name_def)\n",
    "        chrom_name = chrom[index : index + chrom[index:].index(\" \")]\n",
    "        # Достаем размер\n",
    "        chrom_size = chrom[chrom.rindex(\" \") + 1:]\n",
    "        chrom_sizes[chrom_name] = chrom_size\n",
    "        # Записываем в файл\n",
    "        chrom_sizes_file.write(chrom_name + \"\\t\" + chrom_size + \"\\n\")"
   ]
  }
 ],
 "metadata": {
  "kernelspec": {
   "display_name": "Python 2",
   "language": "python",
   "name": "python2"
  },
  "language_info": {
   "codemirror_mode": {
    "name": "ipython",
    "version": 2
   },
   "file_extension": ".py",
   "mimetype": "text/x-python",
   "name": "python",
   "nbconvert_exporter": "python",
   "pygments_lexer": "ipython2",
   "version": "2.7.15"
  }
 },
 "nbformat": 4,
 "nbformat_minor": 2
}
