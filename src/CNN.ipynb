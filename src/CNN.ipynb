{
 "cells": [
  {
   "cell_type": "code",
   "execution_count": 0,
   "metadata": {
    "colab": {},
    "colab_type": "code",
    "collapsed": true,
    "id": "XS5cijHVBTdo"
   },
   "outputs": [],
   "source": [
    "!pip freeze"
   ]
  },
  {
   "cell_type": "code",
   "execution_count": 1,
   "metadata": {
    "colab": {
     "base_uri": "https://localhost:8080/",
     "height": 156
    },
    "colab_type": "code",
    "id": "AIZvs9VPuNSE",
    "outputId": "15bd385f-91d9-40c8-8dce-b2c4f827c70f"
   },
   "outputs": [
    {
     "name": "stdout",
     "output_type": "stream",
     "text": [
      "Collecting biopython\n",
      "\u001b[?25l  Downloading https://files.pythonhosted.org/packages/19/4e/ac487da685e947c56fafd10b2a04c6a09f0051c2e7665a873263f5e303f2/biopython-1.73-cp27-cp27mu-manylinux1_x86_64.whl (2.2MB)\n",
      "\u001b[K     |████████████████████████████████| 2.2MB 40.3MB/s \n",
      "\u001b[?25hRequirement already satisfied: numpy in /usr/local/lib/python2.7/dist-packages (from biopython) (1.16.3)\n",
      "Installing collected packages: biopython\n",
      "Successfully installed biopython-1.73\n",
      "Requirement already satisfied: tensorboardcolab in /usr/local/lib/python2.7/dist-packages (0.0.22)\n"
     ]
    }
   ],
   "source": [
    "!pip install biopython\n",
    "!pip install tensorboardcolab\n",
    "\n",
    "#!pip install h5py pyyaml\n",
    "#!pip install tf_nightly"
   ]
  },
  {
   "cell_type": "code",
   "execution_count": 2,
   "metadata": {
    "colab": {
     "base_uri": "https://localhost:8080/",
     "height": 34
    },
    "colab_type": "code",
    "id": "hotjcwbFYj6E",
    "outputId": "dd73c450-0886-4c04-bb02-1b48c73c7552"
   },
   "outputs": [
    {
     "name": "stderr",
     "output_type": "stream",
     "text": [
      "Using TensorFlow backend.\n"
     ]
    }
   ],
   "source": [
    "import numpy as np\n",
    "import keras \n",
    "from keras.models import Sequential\n",
    "from keras.layers import Conv2D, MaxPooling2D, Activation, LeakyReLU, Dropout, Dense, Flatten, BatchNormalization\n",
    "from keras import optimizers, metrics, regularizers, initializers, applications, callbacks, models\n",
    "from sklearn.preprocessing import LabelEncoder\n",
    "from sklearn.preprocessing import OneHotEncoder\n",
    "from sklearn.model_selection import train_test_split\n",
    "import sklearn.metrics as metrics\n",
    "from sklearn.model_selection import StratifiedKFold\n",
    "\n",
    "from Bio import SeqIO\n",
    "from tensorboardcolab import TensorBoardColab, TensorBoardColabCallback\n",
    "\n",
    "import matplotlib.pyplot as plt\n",
    "import seaborn as sns"
   ]
  },
  {
   "cell_type": "code",
   "execution_count": 3,
   "metadata": {
    "colab": {
     "base_uri": "https://localhost:8080/",
     "height": 164
    },
    "colab_type": "code",
    "id": "dr8lWsmue37l",
    "outputId": "e44415b0-4946-4b8c-fb69-acd796cd8a42"
   },
   "outputs": [
    {
     "ename": "NameError",
     "evalue": "ignored",
     "output_type": "error",
     "traceback": [
      "\u001b[0;31m\u001b[0m",
      "\u001b[0;31mNameError\u001b[0mTraceback (most recent call last)",
      "\u001b[0;32m<ipython-input-3-13a662f6786f>\u001b[0m in \u001b[0;36m<module>\u001b[0;34m()\u001b[0m\n\u001b[0;32m----> 1\u001b[0;31m \u001b[0mtbc\u001b[0m\u001b[0;34m=\u001b[0m\u001b[0mTensorBoardColab\u001b[0m\u001b[0;34m(\u001b[0m\u001b[0mgraph_path\u001b[0m\u001b[0;34m=\u001b[0m\u001b[0mLOG_DIR\u001b[0m\u001b[0;34m)\u001b[0m\u001b[0;34m\u001b[0m\u001b[0m\n\u001b[0m",
      "\u001b[0;31mNameError\u001b[0m: name 'LOG_DIR' is not defined"
     ]
    }
   ],
   "source": [
    "tbc=TensorBoardColab(graph_path=LOG_DIR)"
   ]
  },
  {
   "cell_type": "code",
   "execution_count": 0,
   "metadata": {
    "colab": {},
    "colab_type": "code",
    "collapsed": true,
    "id": "hnOFCHZ1Fy9s"
   },
   "outputs": [],
   "source": [
    "tbc.close()"
   ]
  },
  {
   "cell_type": "code",
   "execution_count": 0,
   "metadata": {
    "colab": {},
    "colab_type": "code",
    "collapsed": true,
    "id": "OqmJhbxLQYiU"
   },
   "outputs": [],
   "source": [
    "np.random.seed(42)"
   ]
  },
  {
   "cell_type": "code",
   "execution_count": 0,
   "metadata": {
    "colab": {},
    "colab_type": "code",
    "collapsed": true,
    "id": "cyw0100KYj6J"
   },
   "outputs": [],
   "source": [
    "def seq_to_one_hot(seq):\n",
    "    if seq.find('N') != -1:\n",
    "      return []\n",
    "    \n",
    "    idxs = find_all(seq, 'N') # запоминаем индексы N\n",
    "    seq = seq.replace('N', 'A')\n",
    "    \n",
    "    seq_arr = np.array(list(seq))\n",
    "    label_encoder = LabelEncoder()\n",
    "    int_seq = label_encoder.fit_transform(seq_arr)\n",
    "    \n",
    "    int_seq = int_seq.reshape(len(int_seq), 1)\n",
    "    onehot_encoder = OneHotEncoder(sparse=False)\n",
    "\n",
    "    mtx = onehot_encoder.fit_transform(int_seq).transpose()\n",
    "    # заменяем N на [0,0,0,0]\n",
    "    for idx in idxs:\n",
    "        mtx[:,idx] = [0,0,0,0]\n",
    "    return mtx.transpose()\n",
    "\n",
    "def target_to_one_hot(y):\n",
    "    y = y.reshape(len(y), 1)\n",
    "    onehot_encoder = OneHotEncoder(sparse=False)\n",
    "    return onehot_encoder.fit_transform(y)\n",
    "  \n",
    "def one_hot_to_target(y):\n",
    "    y_labels = []\n",
    "    for _y in y:\n",
    "        if (_y[0] == 0.) and (_y[1] == 1.):\n",
    "            y_labels.append(1)\n",
    "        else:\n",
    "            y_labels.append(0)\n",
    "    return y_labels"
   ]
  },
  {
   "cell_type": "code",
   "execution_count": 0,
   "metadata": {
    "colab": {},
    "colab_type": "code",
    "collapsed": true,
    "id": "uVgqpCLqy8Qi"
   },
   "outputs": [],
   "source": [
    "def get_seq_from_fasta(file_name):\n",
    "  extr_fasta = SeqIO.parse(open(file_name),'fasta')\n",
    "  train_sequence = ''\n",
    "  test_sequence = ''\n",
    "  for fasta in extr_fasta:\n",
    "      chrom = fasta.description\n",
    "      name = fasta.name\n",
    "      if (name == 'chr6'):\n",
    "          test_sequence = test_sequence + str(fasta.seq.upper())\n",
    "      else:\n",
    "          train_sequence = train_sequence + str(fasta.seq.upper())\n",
    "  return train_sequence, test_sequence\n",
    "\n",
    "def seq_to_arr(seq, window):\n",
    "  arr = np.array([])\n",
    "  cnt = len(seq) // window\n",
    "  for i in range(0, cnt):\n",
    "    arr = np.append(arr, seq[i*window : i*window + window])\n",
    "  return arr"
   ]
  },
  {
   "cell_type": "code",
   "execution_count": 0,
   "metadata": {
    "colab": {},
    "colab_type": "code",
    "collapsed": true,
    "id": "IExDgargo4OZ"
   },
   "outputs": [],
   "source": [
    "def find_all(seq, ch):\n",
    "    return [i for i, _ch in enumerate(seq) if _ch == ch]\n",
    "\n",
    "from keras import backend as K\n",
    "\n",
    "def f1(y_true, y_pred):\n",
    "    def recall(y_true, y_pred):\n",
    "        \"\"\"Recall metric.\n",
    "\n",
    "        Only computes a batch-wise average of recall.\n",
    "\n",
    "        Computes the recall, a metric for multi-label classification of\n",
    "        how many relevant items are selected.\n",
    "        \"\"\"\n",
    "        true_positives = K.sum(K.round(K.clip(y_true * y_pred, 0, 1)))\n",
    "        possible_positives = K.sum(K.round(K.clip(y_true, 0, 1)))\n",
    "        recall = true_positives / (possible_positives + K.epsilon())\n",
    "        return recall\n",
    "\n",
    "    def precision(y_true, y_pred):\n",
    "        \"\"\"Precision metric.\n",
    "\n",
    "        Only computes a batch-wise average of precision.\n",
    "\n",
    "        Computes the precision, a metric for multi-label classification of\n",
    "        how many selected items are relevant.\n",
    "        \"\"\"\n",
    "        true_positives = K.sum(K.round(K.clip(y_true * y_pred, 0, 1)))\n",
    "        predicted_positives = K.sum(K.round(K.clip(y_pred, 0, 1)))\n",
    "        precision = true_positives / (predicted_positives + K.epsilon())\n",
    "        return precision\n",
    "    precision = precision(y_true, y_pred)\n",
    "    recall = recall(y_true, y_pred)\n",
    "    return 2*((precision*recall)/(precision+recall))\n"
   ]
  },
  {
   "cell_type": "code",
   "execution_count": 0,
   "metadata": {
    "colab": {},
    "colab_type": "code",
    "collapsed": true,
    "id": "GPY3ZrBcJFaM"
   },
   "outputs": [],
   "source": [
    "import tensorflow as tf\n",
    "import keras.backend as K\n",
    "\n",
    "def f1(y_true, y_pred):\n",
    "    y_pred = K.round(y_pred)\n",
    "    tp = K.sum(K.cast(y_true*y_pred, 'float'), axis=0)\n",
    "    # tn = K.sum(K.cast((1-y_true)*(1-y_pred), 'float'), axis=0)\n",
    "    fp = K.sum(K.cast((1-y_true)*y_pred, 'float'), axis=0)\n",
    "    fn = K.sum(K.cast(y_true*(1-y_pred), 'float'), axis=0)\n",
    "\n",
    "    p = tp / (tp + fp + K.epsilon())\n",
    "    r = tp / (tp + fn + K.epsilon())\n",
    "\n",
    "    f1 = 2*p*r / (p+r+K.epsilon())\n",
    "    f1 = tf.where(tf.is_nan(f1), tf.zeros_like(f1), f1)\n",
    "    return K.mean(f1)"
   ]
  },
  {
   "cell_type": "code",
   "execution_count": 11,
   "metadata": {
    "colab": {
     "base_uri": "https://localhost:8080/",
     "height": 51
    },
    "colab_type": "code",
    "id": "RVVnQ4qvn2Gp",
    "outputId": "ebbfce31-ac0c-4c18-9a2b-46b78766b00e"
   },
   "outputs": [
    {
     "name": "stdout",
     "output_type": "stream",
     "text": [
      "(106000, 978000, 106000, 978000)\n",
      "(4000, 92000, 4000, 92000)\n"
     ]
    }
   ],
   "source": [
    "extr_seq_train, extr_seq_test = get_seq_from_fasta('sample_data/loops_extr_seq.fasta')\n",
    "loop_seq_train, loop_seq_test = get_seq_from_fasta('sample_data/loops_seq.fasta')\n",
    "inner_seq_train, inner_seq_test = get_seq_from_fasta('sample_data/inner_seq.fasta')\n",
    "outer_seq_train, outer_seq_test = get_seq_from_fasta('sample_data/outer_seq.fasta')\n",
    "\n",
    "#print (len(extr_seq), len(loop_seq), len(inner_seq), len(outer_seq))\n",
    "#print ((len(inner_seq)+len(outer_seq))*1. / (len(extr_seq)+len(loop_seq)))\n",
    "\n",
    "#extr_seq = extr_seq[:len(extr_seq)//2]\n",
    "#loop_seq = loop_seq[:len(loop_seq)//2]\n",
    "\n",
    "inner_seq_train = inner_seq_train[:len(extr_seq_train)]#[:len(inner_seq)//2]\n",
    "outer_seq_train = outer_seq_train[:len(loop_seq_train)]#[:len(outer_seq)//2]\n",
    "inner_seq_test = inner_seq_test[:len(extr_seq_test)]\n",
    "outer_seq_test = outer_seq_test[:len(loop_seq_test)]\n",
    "print(len(extr_seq_train), len(loop_seq_train), len(inner_seq_train), len(outer_seq_train))\n",
    "print(len(extr_seq_test), len(loop_seq_test), len(inner_seq_test), len(outer_seq_test))"
   ]
  },
  {
   "cell_type": "code",
   "execution_count": 12,
   "metadata": {
    "colab": {
     "base_uri": "https://localhost:8080/",
     "height": 122
    },
    "colab_type": "code",
    "id": "YeoCFbwr3S3C",
    "outputId": "f0725ef6-9628-48e7-84c1-3cb1a8b78bf9"
   },
   "outputs": [
    {
     "name": "stderr",
     "output_type": "stream",
     "text": [
      "/usr/local/lib/python2.7/dist-packages/sklearn/preprocessing/_encoders.py:371: FutureWarning: The handling of integer data will change in version 0.22. Currently, the categories are determined based on the range [0, max(values)], while in the future they will be determined based on the unique values.\n",
      "If you want the future behaviour and silence this warning, you can specify \"categories='auto'\".\n",
      "In case you used a LabelEncoder before this OneHotEncoder to convert the categories to integers, then you can now use the OneHotEncoder directly.\n",
      "  warnings.warn(msg, FutureWarning)\n"
     ]
    },
    {
     "data": {
      "text/plain": [
       "((53, 2000, 4), (487, 2000, 4), (53, 2000, 4), (484, 2000, 4))"
      ]
     },
     "execution_count": 12,
     "metadata": {
      "tags": []
     },
     "output_type": "execute_result"
    }
   ],
   "source": [
    "window = 2000\n",
    "# массивы последовательностей длиной по 2000bp каждая\n",
    "extr_arr_train = seq_to_arr(extr_seq_train, window)\n",
    "loop_arr_train = seq_to_arr(loop_seq_train, window)\n",
    "inner_arr_train = seq_to_arr(inner_seq_train, window)\n",
    "outer_arr_train = seq_to_arr(outer_seq_train, window)\n",
    "\n",
    "# делаем one-hot\n",
    "extr_mtx_train = np.array([seq_to_one_hot(s) for s in extr_arr_train if (s.find('N') == -1) and (s.find('n') == -1)])\n",
    "loop_mtx_train = np.array([seq_to_one_hot(s) for s in loop_arr_train if (s.find('N') == -1) and (s.find('n') == -1)])\n",
    "inner_mtx_train = np.array([seq_to_one_hot(s) for s in inner_arr_train if (s.find('N') == -1) and (s.find('n') == -1)])\n",
    "outer_mtx_train = np.array([seq_to_one_hot(s) for s in outer_arr_train if (s.find('N') == -1) and (s.find('n') == -1)])\n",
    "\n",
    "np.shape(extr_mtx_train), np.shape(loop_mtx_train), np.shape(inner_mtx_train), np.shape(outer_mtx_train)"
   ]
  },
  {
   "cell_type": "code",
   "execution_count": 13,
   "metadata": {
    "colab": {
     "base_uri": "https://localhost:8080/",
     "height": 34
    },
    "colab_type": "code",
    "id": "2BEzKMo5ijpi",
    "outputId": "f73b730a-c4ec-40eb-e82e-f29d725fdf26"
   },
   "outputs": [
    {
     "data": {
      "text/plain": [
       "((2, 2000, 4), (45, 2000, 4), (2, 2000, 4), (44, 2000, 4))"
      ]
     },
     "execution_count": 13,
     "metadata": {
      "tags": []
     },
     "output_type": "execute_result"
    }
   ],
   "source": [
    "# массивы последовательностей длиной по 2000bp каждая\n",
    "extr_arr_test = seq_to_arr(extr_seq_test, window)\n",
    "loop_arr_test = seq_to_arr(loop_seq_test, window)\n",
    "inner_arr_test = seq_to_arr(inner_seq_test, window)\n",
    "outer_arr_test = seq_to_arr(outer_seq_test, window)\n",
    "\n",
    "# делаем one-hot\n",
    "extr_mtx_test = np.array([seq_to_one_hot(s) for s in extr_arr_test if (s.find('N') == -1) and (s.find('n') == -1)])\n",
    "loop_mtx_test = np.array([seq_to_one_hot(s) for s in loop_arr_test if (s.find('N') == -1) and (s.find('n') == -1)])\n",
    "inner_mtx_test = np.array([seq_to_one_hot(s) for s in inner_arr_test if (s.find('N') == -1) and (s.find('n') == -1)])\n",
    "outer_mtx_test = np.array([seq_to_one_hot(s) for s in outer_arr_test if (s.find('N') == -1) and (s.find('n') == -1)])\n",
    "\n",
    "np.shape(extr_mtx_test), np.shape(loop_mtx_test), np.shape(inner_mtx_test), np.shape(outer_mtx_test)"
   ]
  },
  {
   "cell_type": "code",
   "execution_count": 14,
   "metadata": {
    "colab": {
     "base_uri": "https://localhost:8080/",
     "height": 34
    },
    "colab_type": "code",
    "id": "NTNWBnrpvGDP",
    "outputId": "d1a5c6cf-2421-485a-9af2-73fa84dd4962"
   },
   "outputs": [
    {
     "name": "stdout",
     "output_type": "stream",
     "text": [
      "((1077, 2000, 4), (1077, 2), (93, 2000, 4), (93, 2))\n"
     ]
    }
   ],
   "source": [
    "x_train = np.vstack((extr_mtx_train, loop_mtx_train, inner_mtx_train, outer_mtx_train)) # num of seqs * 4 * window\n",
    "_y_train = [1]*len(extr_mtx_train) + [1]*len(loop_mtx_train) + [0]*len(inner_mtx_train) + [0]*len(outer_mtx_train)\n",
    "y_train = np.vstack(target_to_one_hot(np.array(_y_train)))\n",
    "#print (x.shape, y.shape)\n",
    "x_test = np.vstack((extr_mtx_test, loop_mtx_test, inner_mtx_test, outer_mtx_test)) # num of seqs * 4 * window\n",
    "_y_test = [1]*len(extr_mtx_test) + [1]*len(loop_mtx_test) + [0]*len(inner_mtx_test) + [0]*len(outer_mtx_test)\n",
    "y_test = np.vstack(target_to_one_hot(np.array(_y_test)))\n",
    "\n",
    "#x_train, x_test, y_train, y_test = train_test_split(x, y, test_size=0.2, random_state=42)\n",
    "print (x_train.shape, y_train.shape, x_test.shape, y_test.shape)"
   ]
  },
  {
   "cell_type": "code",
   "execution_count": 15,
   "metadata": {
    "colab": {
     "base_uri": "https://localhost:8080/",
     "height": 34
    },
    "colab_type": "code",
    "id": "x7fTK2yDp-Bi",
    "outputId": "afe0e01d-33c5-4ff2-9171-22a883e2cb48"
   },
   "outputs": [
    {
     "data": {
      "text/plain": [
       "array([1.0027933 , 0.99722222])"
      ]
     },
     "execution_count": 15,
     "metadata": {
      "tags": []
     },
     "output_type": "execute_result"
    }
   ],
   "source": [
    "from sklearn.utils import class_weight\n",
    "\n",
    "class_weights = class_weight.compute_class_weight('balanced',\n",
    "                                                 np.unique(_y_train),\n",
    "                                                 _y_train)\n",
    "class_weights"
   ]
  },
  {
   "cell_type": "code",
   "execution_count": 16,
   "metadata": {
    "colab": {
     "base_uri": "https://localhost:8080/",
     "height": 34
    },
    "colab_type": "code",
    "id": "k5i3dO6hjcRf",
    "outputId": "6dec1d41-3c33-4d86-ef1e-fe824e949d6d"
   },
   "outputs": [
    {
     "data": {
      "text/plain": [
       "array([1.01086957, 0.9893617 ])"
      ]
     },
     "execution_count": 16,
     "metadata": {
      "tags": []
     },
     "output_type": "execute_result"
    }
   ],
   "source": [
    "from sklearn.utils import class_weight\n",
    "\n",
    "class_weights = class_weight.compute_class_weight('balanced',\n",
    "                                                 np.unique(_y_test),\n",
    "                                                 _y_test)\n",
    "class_weights"
   ]
  },
  {
   "cell_type": "code",
   "execution_count": 0,
   "metadata": {
    "colab": {},
    "colab_type": "code",
    "collapsed": true,
    "id": "xBHj5h70hPIA"
   },
   "outputs": [],
   "source": [
    "tf.reset_default_graph()\n",
    "K.clear_session()"
   ]
  },
  {
   "cell_type": "code",
   "execution_count": 0,
   "metadata": {
    "colab": {},
    "colab_type": "code",
    "collapsed": true,
    "id": "gGEINbID1Jqb"
   },
   "outputs": [],
   "source": [
    "import os\n",
    "import requests\n",
    "import shutil\n",
    "import subprocess\n",
    "import tensorflow as tf\n",
    "\n",
    "__all__ = [\n",
    "  'install_ngrok', \n",
    "  'launch_tensorboard',\n",
    "]\n",
    "\n",
    "def __shell__(cmd, split=True):\n",
    "  # get_ipython().system_raw(cmd)\n",
    "  result = get_ipython().getoutput(cmd, split=split)\n",
    "  if result and not split:\n",
    "    result = result.strip('\\n')\n",
    "  return result  \n",
    "\n",
    "\n",
    "# tested OK\n",
    "def install_ngrok(bin_dir=\"/tmp\"):\n",
    "  \"\"\" download and install ngrok on local vm instance\n",
    "  Args:\n",
    "    bin_dir: full path for the target directory for the `ngrok` binary\n",
    "  \"\"\"\n",
    "  TARGET_DIR = bin_dir\n",
    "  CWD = os.getcwd()\n",
    "  is_grok_avail = os.path.isfile(os.path.join(TARGET_DIR,'ngrok'))\n",
    "  if is_grok_avail:\n",
    "    print(\"ngrok installed\")\n",
    "  else:\n",
    "    import platform\n",
    "    plat = platform.platform() # 'Linux-4.4.64+-x86_64-with-Ubuntu-17.10-artful'\n",
    "    if 'x86_64' in plat:\n",
    "      \n",
    "      os.chdir('/tmp')\n",
    "      print(\"calling wget https://bin.equinox.io/c/4VmDzA7iaHb/ngrok-stable-linux-amd64.zip ...\" )\n",
    "      get_ipython().system_raw( \"wget https://bin.equinox.io/c/4VmDzA7iaHb/ngrok-stable-linux-amd64.zip\" )\n",
    "      print(\"calling unzip ngrok-stable-linux-amd64.zip ...\")\n",
    "      get_ipython().system_raw( \"unzip ngrok-stable-linux-amd64.zip\" )\n",
    "      os.rename(\"ngrok\", \"{}/ngrok\".format(TARGET_DIR))\n",
    "      os.remove(\"ngrok-stable-linux-amd64.zip\")\n",
    "      is_grok_avail = os.path.isfile(os.path.join(TARGET_DIR,'ngrok'))\n",
    "      os.chdir(TARGET_DIR)\n",
    "      if is_grok_avail:\n",
    "        print(\"ngrok installed. path={}\".format(os.path.join(TARGET_DIR,'ngrok')))\n",
    "      else:\n",
    "        # ValueError: ERROR: ngrok not found, path=\n",
    "        raise ValueError( \"ERROR: ngrok not found, path=\".format(TARGET_DIR) )\n",
    "    else:\n",
    "      raise NotImplementedError( \"ERROR, ngrok install not configured for this platform, platform={}\".format(plat))\n",
    "    os.chdir(CWD)\n",
    "    return\n",
    "    \n",
    "# tested OK\n",
    "def launch_tensorboard(bin_dir=\"/tmp\", log_dir=\"/tmp\", retval=False):\n",
    "  \"\"\"returns a public tensorboard url based on the ngrok package\n",
    "  checks if `ngrok` is available, and installs, if necessary, to `bin_dir`\n",
    "  launches tensorboard, if necessary\n",
    "  see: https://stackoverflow.com/questions/47818822/can-i-use-tensorboard-with-google-colab\n",
    "  Args:\n",
    "    bin_dir: full path for the target directory for the `ngrok` binary\n",
    "    log_dir: full path for the tensorflow `log_dir`\n",
    "  Return:\n",
    "    public url for tensorboard if retval==True\n",
    "      NOTE: the method will print a link to stdout (cell output) for the tensorflow URL. \n",
    "      But the link printed from the return value has an extra \"%27\" in the URL which causes an error\n",
    "  \"\"\"\n",
    "  #install_ngrok(bin_dir)\n",
    "    \n",
    "  if not tf.gfile.Exists(log_dir):  tf.gfile.MakeDirs(log_dir)\n",
    "  \n",
    "  # check status of tensorboard and ngrok\n",
    "  ps = __shell__(\"ps -ax\")\n",
    "  is_tensorboard_running = False #len([f for f in ps if \"tensorboard\" in f ]) > 0\n",
    "  is_ngrok_running = False #len([f for f in ps if \"ngrok\" in f ]) > 0\n",
    "  print(\"status: tensorboard={}, ngrok={}, log_dir={}\".format(is_tensorboard_running, is_ngrok_running, log_dir))\n",
    "\n",
    "  if not is_tensorboard_running:\n",
    "    print log_dir\n",
    "    get_ipython().system_raw(\n",
    "        'tensorboard --logdir {} --host 0.0.0.0 --port 6666 &'\n",
    "        .format(log_dir)\n",
    "    )\n",
    "    is_tensorboard_running = True\n",
    "    \n",
    "  if not is_ngrok_running:  \n",
    "    #    grok should be installed in /tmp/ngrok\n",
    "    get_ipython().system_raw('{}/ngrok http 6666 &'.format(bin_dir))\n",
    "    is_ngrok_running = True\n",
    "\n",
    "  # get tensorboard url\n",
    "  # BUG: getting connection refused for HTTPConnectionPool(host='localhost', port=4040)\n",
    "  #     on first run, retry works\n",
    "  import time\n",
    "  time.sleep(10)\n",
    "  retval = requests.get('http://localhost:4040/api/tunnels')\n",
    "  tensorboard_url = retval.json()['tunnels'][0]['public_url'].strip()\n",
    "  print(\"tensorboard url=\", tensorboard_url)\n",
    "  if retval:\n",
    "    return tensorboard_url\n"
   ]
  },
  {
   "cell_type": "code",
   "execution_count": 18,
   "metadata": {
    "colab": {
     "base_uri": "https://localhost:8080/",
     "height": 34
    },
    "colab_type": "code",
    "id": "vIZKGB-C4dqn",
    "outputId": "b502ff83-28bf-498e-a890-a8509caca1f7"
   },
   "outputs": [
    {
     "data": {
      "text/plain": [
       "u'/content/new_logs'"
      ]
     },
     "execution_count": 18,
     "metadata": {
      "tags": []
     },
     "output_type": "execute_result"
    }
   ],
   "source": [
    "import time\n",
    "ROOT = %pwd\n",
    "LOG_DIR = os.path.join(ROOT, 'new_logs')\n",
    "LOG_DIR #os.chdir('/content')"
   ]
  },
  {
   "cell_type": "code",
   "execution_count": 0,
   "metadata": {
    "colab": {},
    "colab_type": "code",
    "collapsed": true,
    "id": "Qw3CzVZ5hv4f"
   },
   "outputs": [],
   "source": [
    "!cp /tmp/new_logs/events.out.tfevents.1558070717.ab44419f904f /content/new_logs/2x128_2x64_d256_d128_1e-4__1558070708"
   ]
  },
  {
   "cell_type": "code",
   "execution_count": 0,
   "metadata": {
    "colab": {},
    "colab_type": "code",
    "collapsed": true,
    "id": "i9KoGh2yxGv5"
   },
   "outputs": [],
   "source": [
    "!cp -r /content/new_logs/2x128_2x64_d256_d128_simple_1e-4__1558083034/ /tmp/new_logs/2x128_2x64_d256_d128_simple_1e-4__1558083034/"
   ]
  },
  {
   "cell_type": "code",
   "execution_count": 72,
   "metadata": {
    "colab": {
     "base_uri": "https://localhost:8080/",
     "height": 173
    },
    "colab_type": "code",
    "id": "vb6yOA2ja7El",
    "outputId": "70010ff2-bc98-4e40-c003-3af01a09b7bb"
   },
   "outputs": [
    {
     "name": "stdout",
     "output_type": "stream",
     "text": [
      "Collecting ngrok\n",
      "  Downloading https://files.pythonhosted.org/packages/fd/56/8245c77e761e13a376ed0b1d696c4e36b3126c5cdfb4fccbfe6ca41870e4/ngrok-0.0.1.tar.gz\n",
      "Building wheels for collected packages: ngrok\n",
      "  Building wheel for ngrok (setup.py) ... \u001b[?25l\u001b[?25hdone\n",
      "  Stored in directory: /root/.cache/pip/wheels/7c/e5/bb/0aba6d734b1363ac037c3806ba9c5af55cc0f5f6d711153813\n",
      "Successfully built ngrok\n",
      "Installing collected packages: ngrok\n",
      "Successfully installed ngrok-0.0.1\n"
     ]
    }
   ],
   "source": [
    "!pip install ngrok"
   ]
  },
  {
   "cell_type": "code",
   "execution_count": 83,
   "metadata": {
    "colab": {
     "base_uri": "https://localhost:8080/",
     "height": 204
    },
    "colab_type": "code",
    "id": "kiziH7wjgOUM",
    "outputId": "f1938c66-1fe9-4fcb-8f3e-5cb1b5a2ac34"
   },
   "outputs": [
    {
     "name": "stdout",
     "output_type": "stream",
     "text": [
      "Traceback (most recent call last):\n",
      "  File \"<string>\", line 1, in <module>\n",
      "  File \"/usr/lib/python2.7/json/__init__.py\", line 291, in load\n",
      "    **kw)\n",
      "  File \"/usr/lib/python2.7/json/__init__.py\", line 339, in loads\n",
      "    return _default_decoder.decode(s)\n",
      "  File \"/usr/lib/python2.7/json/decoder.py\", line 364, in decode\n",
      "    obj, end = self.raw_decode(s, idx=_w(s, 0).end())\n",
      "  File \"/usr/lib/python2.7/json/decoder.py\", line 382, in raw_decode\n",
      "    raise ValueError(\"No JSON object could be decoded\")\n",
      "ValueError: No JSON object could be decoded\n"
     ]
    }
   ],
   "source": [
    "#!wget https://bin.equinox.io/c/4VmDzA7iaHb/ngrok-stable-linux-amd64.zip\n",
    "#!unzip ngrok-stable-linux-amd64.zip\n",
    "\n",
    "get_ipython().system_raw(\n",
    "    'tensorboard --logdir {} --host 0.0.0.0 --port 6006 &'\n",
    "    .format(LOG_DIR)\n",
    ")\n",
    "\n",
    "get_ipython().system_raw('./ngrok http 6006 &')\n",
    "\n",
    "! curl -s http://localhost:4040/api/tunnels | python -c \\\n",
    "    \"import sys, json; print(json.load(sys.stdin)['tunnels'][0]['public_url'])\""
   ]
  },
  {
   "cell_type": "code",
   "execution_count": 0,
   "metadata": {
    "colab": {},
    "colab_type": "code",
    "collapsed": true,
    "id": "rDJI5i67h9yt"
   },
   "outputs": [],
   "source": [
    "tf.reset_default_graph()\n",
    "K.clear_session()"
   ]
  },
  {
   "cell_type": "code",
   "execution_count": 0,
   "metadata": {
    "colab": {},
    "colab_type": "code",
    "collapsed": true,
    "id": "Ju3g7WRenZhb"
   },
   "outputs": [],
   "source": [
    "# will install `ngrok`, if necessary\n",
    "# will create `log_dir` if path does not exist\n",
    "!python -m visdom.server\n",
    "\n",
    "launch_tensorboard( bin_dir=ROOT, log_dir=LOG_DIR )"
   ]
  },
  {
   "cell_type": "code",
   "execution_count": 90,
   "metadata": {
    "colab": {
     "base_uri": "https://localhost:8080/",
     "height": 85
    },
    "colab_type": "code",
    "id": "oqudPYakjr-I",
    "outputId": "80858621-ba7e-48f1-f2a3-3896aa9a9b3f"
   },
   "outputs": [
    {
     "name": "stdout",
     "output_type": "stream",
     "text": [
      "\u001b[K\u001b[?25h/tools/node/bin/lt -> /tools/node/lib/node_modules/localtunnel/bin/client\n",
      "+ localtunnel@1.9.1\n",
      "updated 1 package in 1.44s\n",
      "your url is: https://helpless-firefox-22.localtunnel.me\n"
     ]
    }
   ],
   "source": [
    "LOG_DIR = '/content/new_logs'\n",
    "get_ipython().system_raw(\n",
    "    'tensorboard --logdir {} --host 0.0.0.0 --port 6006 &'\n",
    "    .format(LOG_DIR)\n",
    ")\n",
    "# Install\n",
    "! npm install -g localtunnel\n",
    "\n",
    "# Tunnel port 6006 (TensorBoard assumed running)\n",
    "get_ipython().system_raw('lt --port 6006 >> url.txt 2>&1 &')\n",
    "\n",
    "# Get url\n",
    "! cat url.txt"
   ]
  },
  {
   "cell_type": "code",
   "execution_count": 91,
   "metadata": {
    "colab": {
     "base_uri": "https://localhost:8080/",
     "height": 2774
    },
    "colab_type": "code",
    "id": "cf-266dcGLj6",
    "outputId": "b93fb0b3-fe91-4692-d3c7-e83608403883"
   },
   "outputs": [
    {
     "name": "stdout",
     "output_type": "stream",
     "text": [
      "Train on 1077 samples, validate on 93 samples\n",
      "Epoch 1/80\n",
      "1077/1077 [==============================] - 3s 3ms/step - loss: 778.0498 - f1: 0.4514 - binary_accuracy: 0.4884 - mean_absolute_error: 0.5019 - val_loss: 522.7433 - val_f1: 0.2914 - val_binary_accuracy: 0.5054 - val_mean_absolute_error: 0.4999\n",
      "Epoch 2/80\n",
      "1077/1077 [==============================] - 1s 1ms/step - loss: 555.7369 - f1: 0.5192 - binary_accuracy: 0.5274 - mean_absolute_error: 0.4980 - val_loss: 414.1374 - val_f1: 0.3370 - val_binary_accuracy: 0.4839 - val_mean_absolute_error: 0.5000\n",
      "Epoch 3/80\n",
      "1077/1077 [==============================] - 1s 1ms/step - loss: 448.0145 - f1: 0.5160 - binary_accuracy: 0.5237 - mean_absolute_error: 0.4976 - val_loss: 341.1915 - val_f1: 0.2914 - val_binary_accuracy: 0.5054 - val_mean_absolute_error: 0.4999\n",
      "Epoch 4/80\n",
      "1077/1077 [==============================] - 2s 1ms/step - loss: 371.9225 - f1: 0.5175 - binary_accuracy: 0.5246 - mean_absolute_error: 0.4979 - val_loss: 286.4415 - val_f1: 0.2976 - val_binary_accuracy: 0.4839 - val_mean_absolute_error: 0.5000\n",
      "Epoch 5/80\n",
      "1077/1077 [==============================] - 1s 1ms/step - loss: 313.4424 - f1: 0.5308 - binary_accuracy: 0.5385 - mean_absolute_error: 0.4965 - val_loss: 243.1281 - val_f1: 0.2914 - val_binary_accuracy: 0.5054 - val_mean_absolute_error: 0.4999\n",
      "Epoch 6/80\n",
      "1077/1077 [==============================] - 2s 1ms/step - loss: 266.5945 - f1: 0.5212 - binary_accuracy: 0.5283 - mean_absolute_error: 0.4971 - val_loss: 207.7559 - val_f1: 0.2914 - val_binary_accuracy: 0.5054 - val_mean_absolute_error: 0.4999\n",
      "Epoch 7/80\n",
      "1077/1077 [==============================] - 2s 1ms/step - loss: 228.0066 - f1: 0.5229 - binary_accuracy: 0.5274 - mean_absolute_error: 0.4972 - val_loss: 178.2703 - val_f1: 0.3003 - val_binary_accuracy: 0.4946 - val_mean_absolute_error: 0.5000\n",
      "Epoch 8/80\n",
      "1077/1077 [==============================] - 2s 1ms/step - loss: 195.6517 - f1: 0.5387 - binary_accuracy: 0.5413 - mean_absolute_error: 0.4978 - val_loss: 153.3374 - val_f1: 0.3003 - val_binary_accuracy: 0.4946 - val_mean_absolute_error: 0.5000\n",
      "Epoch 9/80\n",
      "1077/1077 [==============================] - 1s 1ms/step - loss: 168.2050 - f1: 0.5472 - binary_accuracy: 0.5525 - mean_absolute_error: 0.4968 - val_loss: 132.1240 - val_f1: 0.2914 - val_binary_accuracy: 0.5054 - val_mean_absolute_error: 0.5000\n",
      "Epoch 10/80\n",
      "1077/1077 [==============================] - 1s 1ms/step - loss: 144.8171 - f1: 0.5392 - binary_accuracy: 0.5497 - mean_absolute_error: 0.4970 - val_loss: 113.9346 - val_f1: 0.2914 - val_binary_accuracy: 0.5054 - val_mean_absolute_error: 0.4999\n",
      "Epoch 11/80\n",
      "1077/1077 [==============================] - 1s 1ms/step - loss: 124.7555 - f1: 0.5342 - binary_accuracy: 0.5478 - mean_absolute_error: 0.4977 - val_loss: 98.3130 - val_f1: 0.2914 - val_binary_accuracy: 0.5054 - val_mean_absolute_error: 0.4999\n",
      "Epoch 12/80\n",
      "1077/1077 [==============================] - 2s 1ms/step - loss: 107.5064 - f1: 0.5313 - binary_accuracy: 0.5552 - mean_absolute_error: 0.4973 - val_loss: 84.8795 - val_f1: 0.2914 - val_binary_accuracy: 0.5054 - val_mean_absolute_error: 0.4999\n",
      "Epoch 13/80\n",
      "1077/1077 [==============================] - 2s 1ms/step - loss: 92.6801 - f1: 0.5204 - binary_accuracy: 0.5404 - mean_absolute_error: 0.4985 - val_loss: 73.3204 - val_f1: 0.2914 - val_binary_accuracy: 0.5054 - val_mean_absolute_error: 0.4999\n",
      "Epoch 14/80\n",
      "1077/1077 [==============================] - 1s 1ms/step - loss: 79.9272 - f1: 0.4904 - binary_accuracy: 0.5209 - mean_absolute_error: 0.4980 - val_loss: 63.3560 - val_f1: 0.2914 - val_binary_accuracy: 0.5054 - val_mean_absolute_error: 0.4998\n",
      "Epoch 15/80\n",
      "1077/1077 [==============================] - 2s 1ms/step - loss: 68.9659 - f1: 0.5018 - binary_accuracy: 0.5450 - mean_absolute_error: 0.4979 - val_loss: 54.7730 - val_f1: 0.2914 - val_binary_accuracy: 0.5054 - val_mean_absolute_error: 0.4999\n",
      "Epoch 16/80\n",
      "1077/1077 [==============================] - 2s 1ms/step - loss: 59.5015 - f1: 0.5792 - binary_accuracy: 0.5896 - mean_absolute_error: 0.4978 - val_loss: 47.4020 - val_f1: 0.3190 - val_binary_accuracy: 0.4839 - val_mean_absolute_error: 0.5000\n",
      "Epoch 17/80\n",
      "1077/1077 [==============================] - 2s 1ms/step - loss: 51.3861 - f1: 0.6076 - binary_accuracy: 0.6110 - mean_absolute_error: 0.4973 - val_loss: 41.0611 - val_f1: 0.3003 - val_binary_accuracy: 0.4946 - val_mean_absolute_error: 0.5000\n",
      "Epoch 18/80\n",
      "1077/1077 [==============================] - 2s 1ms/step - loss: 44.4225 - f1: 0.5698 - binary_accuracy: 0.5775 - mean_absolute_error: 0.4979 - val_loss: 35.6097 - val_f1: 0.4419 - val_binary_accuracy: 0.5591 - val_mean_absolute_error: 0.5000\n",
      "Epoch 19/80\n",
      "1077/1077 [==============================] - 1s 1ms/step - loss: 38.4432 - f1: 0.5525 - binary_accuracy: 0.5617 - mean_absolute_error: 0.4979 - val_loss: 30.9292 - val_f1: 0.2914 - val_binary_accuracy: 0.5054 - val_mean_absolute_error: 0.4999\n",
      "Epoch 20/80\n",
      "1077/1077 [==============================] - 2s 1ms/step - loss: 33.3091 - f1: 0.5468 - binary_accuracy: 0.5682 - mean_absolute_error: 0.4975 - val_loss: 26.9203 - val_f1: 0.2914 - val_binary_accuracy: 0.5054 - val_mean_absolute_error: 0.4999\n",
      "Epoch 21/80\n",
      "1077/1077 [==============================] - 2s 1ms/step - loss: 28.9207 - f1: 0.5341 - binary_accuracy: 0.5682 - mean_absolute_error: 0.4978 - val_loss: 23.4835 - val_f1: 0.2914 - val_binary_accuracy: 0.5054 - val_mean_absolute_error: 0.4999\n",
      "Epoch 22/80\n",
      "1077/1077 [==============================] - 1s 1ms/step - loss: 25.1561 - f1: 0.6030 - binary_accuracy: 0.6082 - mean_absolute_error: 0.4980 - val_loss: 20.5484 - val_f1: 0.4104 - val_binary_accuracy: 0.4731 - val_mean_absolute_error: 0.5000\n",
      "Epoch 23/80\n",
      "1077/1077 [==============================] - 1s 1ms/step - loss: 21.9478 - f1: 0.5589 - binary_accuracy: 0.5840 - mean_absolute_error: 0.4981 - val_loss: 18.0347 - val_f1: 0.2914 - val_binary_accuracy: 0.5054 - val_mean_absolute_error: 0.4999\n",
      "Epoch 24/80\n",
      "1077/1077 [==============================] - 1s 1ms/step - loss: 19.2056 - f1: 0.5951 - binary_accuracy: 0.6119 - mean_absolute_error: 0.4980 - val_loss: 15.8897 - val_f1: 0.3615 - val_binary_accuracy: 0.5484 - val_mean_absolute_error: 0.4999\n",
      "Epoch 25/80\n",
      "1077/1077 [==============================] - 2s 1ms/step - loss: 16.8704 - f1: 0.6196 - binary_accuracy: 0.6286 - mean_absolute_error: 0.4980 - val_loss: 14.0591 - val_f1: 0.2914 - val_binary_accuracy: 0.5054 - val_mean_absolute_error: 0.4999\n",
      "Epoch 26/80\n",
      "1077/1077 [==============================] - 1s 1ms/step - loss: 14.8763 - f1: 0.5848 - binary_accuracy: 0.6017 - mean_absolute_error: 0.4978 - val_loss: 12.5019 - val_f1: 0.2914 - val_binary_accuracy: 0.5054 - val_mean_absolute_error: 0.4999\n",
      "Epoch 27/80\n",
      "1077/1077 [==============================] - 1s 1ms/step - loss: 13.1830 - f1: 0.6156 - binary_accuracy: 0.6249 - mean_absolute_error: 0.4979 - val_loss: 11.1746 - val_f1: 0.3427 - val_binary_accuracy: 0.5269 - val_mean_absolute_error: 0.4999\n",
      "Epoch 28/80\n",
      "1077/1077 [==============================] - 1s 1ms/step - loss: 11.7418 - f1: 0.5993 - binary_accuracy: 0.6128 - mean_absolute_error: 0.4982 - val_loss: 10.0470 - val_f1: 0.2914 - val_binary_accuracy: 0.5054 - val_mean_absolute_error: 0.4999\n",
      "Epoch 29/80\n",
      "1077/1077 [==============================] - 2s 1ms/step - loss: 10.5151 - f1: 0.5844 - binary_accuracy: 0.6007 - mean_absolute_error: 0.4982 - val_loss: 9.0896 - val_f1: 0.2914 - val_binary_accuracy: 0.5054 - val_mean_absolute_error: 0.4999\n",
      "Epoch 30/80\n",
      "1077/1077 [==============================] - 2s 1ms/step - loss: 9.4776 - f1: 0.6088 - binary_accuracy: 0.6128 - mean_absolute_error: 0.4985 - val_loss: 8.2758 - val_f1: 0.4154 - val_binary_accuracy: 0.5806 - val_mean_absolute_error: 0.4999\n",
      "Epoch 31/80\n",
      "1077/1077 [==============================] - 2s 1ms/step - loss: 8.5971 - f1: 0.6108 - binary_accuracy: 0.6202 - mean_absolute_error: 0.4984 - val_loss: 7.5849 - val_f1: 0.3018 - val_binary_accuracy: 0.5161 - val_mean_absolute_error: 0.4999\n",
      "Epoch 32/80\n",
      "1077/1077 [==============================] - 2s 1ms/step - loss: 7.8503 - f1: 0.6186 - binary_accuracy: 0.6240 - mean_absolute_error: 0.4985 - val_loss: 6.9994 - val_f1: 0.4476 - val_binary_accuracy: 0.5914 - val_mean_absolute_error: 0.4999\n",
      "Epoch 33/80\n",
      "1077/1077 [==============================] - 2s 1ms/step - loss: 7.2185 - f1: 0.6154 - binary_accuracy: 0.6240 - mean_absolute_error: 0.4986 - val_loss: 6.5034 - val_f1: 0.3524 - val_binary_accuracy: 0.5376 - val_mean_absolute_error: 0.4999\n",
      "Epoch 34/80\n",
      "1077/1077 [==============================] - 2s 1ms/step - loss: 6.6841 - f1: 0.5832 - binary_accuracy: 0.5905 - mean_absolute_error: 0.4989 - val_loss: 6.0830 - val_f1: 0.5112 - val_binary_accuracy: 0.5806 - val_mean_absolute_error: 0.4999\n",
      "Epoch 35/80\n",
      "1077/1077 [==============================] - 2s 1ms/step - loss: 6.2312 - f1: 0.6020 - binary_accuracy: 0.6054 - mean_absolute_error: 0.4988 - val_loss: 5.7273 - val_f1: 0.4154 - val_binary_accuracy: 0.5806 - val_mean_absolute_error: 0.4999\n",
      "Epoch 36/80\n",
      "1077/1077 [==============================] - 1s 1ms/step - loss: 5.8479 - f1: 0.6012 - binary_accuracy: 0.6119 - mean_absolute_error: 0.4988 - val_loss: 5.4262 - val_f1: 0.3427 - val_binary_accuracy: 0.5269 - val_mean_absolute_error: 0.4999\n",
      "Epoch 37/80\n",
      "1077/1077 [==============================] - 2s 1ms/step - loss: 5.5255 - f1: 0.5424 - binary_accuracy: 0.5664 - mean_absolute_error: 0.4991 - val_loss: 5.1706 - val_f1: 0.2914 - val_binary_accuracy: 0.5054 - val_mean_absolute_error: 0.4999\n",
      "Epoch 38/80\n",
      "1077/1077 [==============================] - 1s 1ms/step - loss: 5.2514 - f1: 0.5783 - binary_accuracy: 0.5840 - mean_absolute_error: 0.4991 - val_loss: 4.9548 - val_f1: 0.3148 - val_binary_accuracy: 0.4624 - val_mean_absolute_error: 0.4999\n",
      "Epoch 39/80\n",
      "1077/1077 [==============================] - 2s 1ms/step - loss: 5.0207 - f1: 0.5756 - binary_accuracy: 0.5822 - mean_absolute_error: 0.4992 - val_loss: 4.7713 - val_f1: 0.3003 - val_binary_accuracy: 0.4946 - val_mean_absolute_error: 0.4999\n",
      "Epoch 40/80\n",
      "1077/1077 [==============================] - 1s 1ms/step - loss: 4.8244 - f1: 0.5478 - binary_accuracy: 0.5655 - mean_absolute_error: 0.4992 - val_loss: 4.6157 - val_f1: 0.2935 - val_binary_accuracy: 0.4839 - val_mean_absolute_error: 0.4999\n",
      "Epoch 41/80\n",
      "1077/1077 [==============================] - 2s 1ms/step - loss: 4.6584 - f1: 0.5268 - binary_accuracy: 0.5543 - mean_absolute_error: 0.4994 - val_loss: 4.4838 - val_f1: 0.3003 - val_binary_accuracy: 0.4946 - val_mean_absolute_error: 0.5000\n",
      "Epoch 42/80\n",
      "1077/1077 [==============================] - 1s 1ms/step - loss: 4.5177 - f1: 0.5399 - binary_accuracy: 0.5543 - mean_absolute_error: 0.4995 - val_loss: 4.3712 - val_f1: 0.3003 - val_binary_accuracy: 0.4946 - val_mean_absolute_error: 0.5000\n",
      "Epoch 43/80\n",
      "1077/1077 [==============================] - 2s 1ms/step - loss: 4.3977 - f1: 0.5668 - binary_accuracy: 0.5710 - mean_absolute_error: 0.4994 - val_loss: 4.2751 - val_f1: 0.5098 - val_binary_accuracy: 0.5914 - val_mean_absolute_error: 0.4999\n",
      "Epoch 44/80\n",
      "1077/1077 [==============================] - 1s 1ms/step - loss: 4.2958 - f1: 0.5622 - binary_accuracy: 0.5720 - mean_absolute_error: 0.4993 - val_loss: 4.1930 - val_f1: 0.3427 - val_binary_accuracy: 0.5269 - val_mean_absolute_error: 0.4999\n",
      "Epoch 45/80\n",
      "1077/1077 [==============================] - 1s 1ms/step - loss: 4.2093 - f1: 0.5332 - binary_accuracy: 0.5599 - mean_absolute_error: 0.4994 - val_loss: 4.1223 - val_f1: 0.2914 - val_binary_accuracy: 0.5054 - val_mean_absolute_error: 0.4999\n",
      "Epoch 46/80\n",
      "1077/1077 [==============================] - 2s 1ms/step - loss: 4.1348 - f1: 0.5580 - binary_accuracy: 0.5655 - mean_absolute_error: 0.4996 - val_loss: 4.0615 - val_f1: 0.4549 - val_binary_accuracy: 0.5376 - val_mean_absolute_error: 0.4999\n",
      "Epoch 47/80\n",
      "1077/1077 [==============================] - 2s 1ms/step - loss: 4.0709 - f1: 0.5061 - binary_accuracy: 0.5246 - mean_absolute_error: 0.4997 - val_loss: 4.0090 - val_f1: 0.4600 - val_binary_accuracy: 0.5591 - val_mean_absolute_error: 0.5000\n",
      "Epoch 48/80\n",
      "1077/1077 [==============================] - 2s 1ms/step - loss: 4.0158 - f1: 0.5361 - binary_accuracy: 0.5422 - mean_absolute_error: 0.4998 - val_loss: 3.9631 - val_f1: 0.3018 - val_binary_accuracy: 0.5161 - val_mean_absolute_error: 0.5000\n",
      "Epoch 49/80\n",
      "1077/1077 [==============================] - 2s 1ms/step - loss: 3.9676 - f1: 0.5449 - binary_accuracy: 0.5469 - mean_absolute_error: 0.4997 - val_loss: 3.9230 - val_f1: 0.3018 - val_binary_accuracy: 0.5161 - val_mean_absolute_error: 0.5000\n",
      "Epoch 50/80\n",
      "1077/1077 [==============================] - 1s 1ms/step - loss: 3.9257 - f1: 0.5082 - binary_accuracy: 0.5162 - mean_absolute_error: 0.4997 - val_loss: 3.8877 - val_f1: 0.3003 - val_binary_accuracy: 0.4946 - val_mean_absolute_error: 0.5000\n",
      "Epoch 51/80\n",
      "1077/1077 [==============================] - 2s 1ms/step - loss: 3.8888 - f1: 0.4823 - binary_accuracy: 0.5265 - mean_absolute_error: 0.4998 - val_loss: 3.8564 - val_f1: 0.3003 - val_binary_accuracy: 0.4946 - val_mean_absolute_error: 0.5000\n",
      "Epoch 52/80\n",
      "1077/1077 [==============================] - 2s 1ms/step - loss: 3.8565 - f1: 0.4962 - binary_accuracy: 0.5116 - mean_absolute_error: 0.4998 - val_loss: 3.8285 - val_f1: 0.3003 - val_binary_accuracy: 0.4946 - val_mean_absolute_error: 0.5000\n",
      "Epoch 53/80\n",
      "1077/1077 [==============================] - 1s 1ms/step - loss: 3.8274 - f1: 0.5101 - binary_accuracy: 0.5302 - mean_absolute_error: 0.4998 - val_loss: 3.8031 - val_f1: 0.4975 - val_binary_accuracy: 0.5806 - val_mean_absolute_error: 0.5000\n",
      "Epoch 54/80\n",
      "1077/1077 [==============================] - 2s 1ms/step - loss: 3.8011 - f1: 0.5177 - binary_accuracy: 0.5218 - mean_absolute_error: 0.4997 - val_loss: 3.7801 - val_f1: 0.2914 - val_binary_accuracy: 0.5054 - val_mean_absolute_error: 0.5000\n",
      "Epoch 55/80\n",
      "1077/1077 [==============================] - 1s 1ms/step - loss: 3.7778 - f1: 0.4883 - binary_accuracy: 0.5181 - mean_absolute_error: 0.4999 - val_loss: 3.7592 - val_f1: 0.3399 - val_binary_accuracy: 0.4946 - val_mean_absolute_error: 0.5000\n",
      "Epoch 56/80\n",
      "1077/1077 [==============================] - 1s 1ms/step - loss: 3.7559 - f1: 0.5157 - binary_accuracy: 0.5246 - mean_absolute_error: 0.4998 - val_loss: 3.7397 - val_f1: 0.3003 - val_binary_accuracy: 0.4946 - val_mean_absolute_error: 0.5000\n",
      "Epoch 57/80\n",
      "1077/1077 [==============================] - 1s 1ms/step - loss: 3.7361 - f1: 0.4522 - binary_accuracy: 0.5190 - mean_absolute_error: 0.4997 - val_loss: 3.7216 - val_f1: 0.2914 - val_binary_accuracy: 0.5054 - val_mean_absolute_error: 0.5000\n",
      "Epoch 58/80\n",
      "1077/1077 [==============================] - 1s 1ms/step - loss: 3.7176 - f1: 0.5382 - binary_accuracy: 0.5478 - mean_absolute_error: 0.4998 - val_loss: 3.7047 - val_f1: 0.4683 - val_binary_accuracy: 0.5699 - val_mean_absolute_error: 0.5000\n",
      "Epoch 59/80\n",
      "1077/1077 [==============================] - 1s 1ms/step - loss: 3.7006 - f1: 0.4929 - binary_accuracy: 0.4986 - mean_absolute_error: 0.4999 - val_loss: 3.6886 - val_f1: 0.2914 - val_binary_accuracy: 0.5054 - val_mean_absolute_error: 0.5000\n",
      "Epoch 60/80\n",
      "1077/1077 [==============================] - 2s 1ms/step - loss: 3.6845 - f1: 0.4822 - binary_accuracy: 0.4903 - mean_absolute_error: 0.5001 - val_loss: 3.6733 - val_f1: 0.3003 - val_binary_accuracy: 0.4946 - val_mean_absolute_error: 0.5000\n",
      "Epoch 61/80\n",
      "1077/1077 [==============================] - 2s 1ms/step - loss: 3.6688 - f1: 0.5211 - binary_accuracy: 0.5227 - mean_absolute_error: 0.4999 - val_loss: 3.6586 - val_f1: 0.3003 - val_binary_accuracy: 0.4946 - val_mean_absolute_error: 0.5000\n",
      "Epoch 62/80\n",
      "1077/1077 [==============================] - 2s 1ms/step - loss: 3.6538 - f1: 0.5179 - binary_accuracy: 0.5320 - mean_absolute_error: 0.4998 - val_loss: 3.6446 - val_f1: 0.2914 - val_binary_accuracy: 0.5054 - val_mean_absolute_error: 0.5000\n",
      "Epoch 63/80\n",
      "1077/1077 [==============================] - 2s 1ms/step - loss: 3.6404 - f1: 0.4597 - binary_accuracy: 0.4652 - mean_absolute_error: 0.5002 - val_loss: 3.6309 - val_f1: 0.3589 - val_binary_accuracy: 0.5376 - val_mean_absolute_error: 0.5000\n",
      "Epoch 64/80\n",
      "1077/1077 [==============================] - 1s 1ms/step - loss: 3.6259 - f1: 0.5096 - binary_accuracy: 0.5125 - mean_absolute_error: 0.4999 - val_loss: 3.6177 - val_f1: 0.3003 - val_binary_accuracy: 0.4946 - val_mean_absolute_error: 0.5000\n",
      "Epoch 65/80\n",
      "1077/1077 [==============================] - 2s 1ms/step - loss: 3.6127 - f1: 0.5159 - binary_accuracy: 0.5218 - mean_absolute_error: 0.4999 - val_loss: 3.6048 - val_f1: 0.2914 - val_binary_accuracy: 0.5054 - val_mean_absolute_error: 0.5000\n",
      "Epoch 66/80\n",
      "1077/1077 [==============================] - 2s 1ms/step - loss: 3.5997 - f1: 0.4513 - binary_accuracy: 0.5060 - mean_absolute_error: 0.4998 - val_loss: 3.5922 - val_f1: 0.2914 - val_binary_accuracy: 0.5054 - val_mean_absolute_error: 0.5000\n",
      "Epoch 67/80\n",
      "1077/1077 [==============================] - 1s 1ms/step - loss: 3.5871 - f1: 0.4832 - binary_accuracy: 0.4912 - mean_absolute_error: 0.5000 - val_loss: 3.5797 - val_f1: 0.2914 - val_binary_accuracy: 0.5054 - val_mean_absolute_error: 0.5000\n",
      "Epoch 68/80\n",
      "1077/1077 [==============================] - 1s 1ms/step - loss: 3.5745 - f1: 0.4934 - binary_accuracy: 0.5209 - mean_absolute_error: 0.4999 - val_loss: 3.5675 - val_f1: 0.2914 - val_binary_accuracy: 0.5054 - val_mean_absolute_error: 0.5000\n",
      "Epoch 69/80\n",
      "1077/1077 [==============================] - 2s 1ms/step - loss: 3.5624 - f1: 0.5055 - binary_accuracy: 0.5190 - mean_absolute_error: 0.5000 - val_loss: 3.5554 - val_f1: 0.2914 - val_binary_accuracy: 0.5054 - val_mean_absolute_error: 0.5000\n",
      "Epoch 70/80\n",
      "1077/1077 [==============================] - 2s 1ms/step - loss: 3.5502 - f1: 0.5066 - binary_accuracy: 0.5162 - mean_absolute_error: 0.4999 - val_loss: 3.5435 - val_f1: 0.2914 - val_binary_accuracy: 0.5054 - val_mean_absolute_error: 0.5000\n",
      "Epoch 71/80\n",
      "1077/1077 [==============================] - 1s 1ms/step - loss: 3.5384 - f1: 0.5036 - binary_accuracy: 0.5088 - mean_absolute_error: 0.5000 - val_loss: 3.5318 - val_f1: 0.5326 - val_binary_accuracy: 0.6129 - val_mean_absolute_error: 0.5000\n",
      "Epoch 72/80\n",
      "1077/1077 [==============================] - 1s 1ms/step - loss: 3.5266 - f1: 0.4883 - binary_accuracy: 0.5153 - mean_absolute_error: 0.4999 - val_loss: 3.5202 - val_f1: 0.2914 - val_binary_accuracy: 0.5054 - val_mean_absolute_error: 0.5000\n",
      "Epoch 73/80\n",
      "1077/1077 [==============================] - 2s 1ms/step - loss: 3.5153 - f1: 0.4428 - binary_accuracy: 0.4652 - mean_absolute_error: 0.5001 - val_loss: 3.5086 - val_f1: 0.2914 - val_binary_accuracy: 0.5054 - val_mean_absolute_error: 0.5000\n",
      "Epoch 74/80\n",
      "1077/1077 [==============================] - 1s 1ms/step - loss: 3.5036 - f1: 0.4639 - binary_accuracy: 0.4930 - mean_absolute_error: 0.5000 - val_loss: 3.4971 - val_f1: 0.2914 - val_binary_accuracy: 0.5054 - val_mean_absolute_error: 0.5000\n",
      "Epoch 75/80\n",
      "1077/1077 [==============================] - 2s 1ms/step - loss: 3.4920 - f1: 0.4683 - binary_accuracy: 0.4847 - mean_absolute_error: 0.5000 - val_loss: 3.4857 - val_f1: 0.2914 - val_binary_accuracy: 0.5054 - val_mean_absolute_error: 0.5000\n",
      "Epoch 76/80\n",
      "1077/1077 [==============================] - 1s 1ms/step - loss: 3.4806 - f1: 0.4801 - binary_accuracy: 0.4903 - mean_absolute_error: 0.5000 - val_loss: 3.4743 - val_f1: 0.2914 - val_binary_accuracy: 0.5054 - val_mean_absolute_error: 0.5000\n",
      "Epoch 77/80\n",
      "1077/1077 [==============================] - 2s 1ms/step - loss: 3.4690 - f1: 0.5010 - binary_accuracy: 0.5107 - mean_absolute_error: 0.4999 - val_loss: 3.4631 - val_f1: 0.2914 - val_binary_accuracy: 0.5054 - val_mean_absolute_error: 0.5000\n",
      "Epoch 78/80\n",
      "1077/1077 [==============================] - 1s 1ms/step - loss: 3.4578 - f1: 0.4781 - binary_accuracy: 0.4921 - mean_absolute_error: 0.4999 - val_loss: 3.4519 - val_f1: 0.2914 - val_binary_accuracy: 0.5054 - val_mean_absolute_error: 0.5000\n",
      "Epoch 79/80\n",
      "1077/1077 [==============================] - 2s 1ms/step - loss: 3.4465 - f1: 0.5181 - binary_accuracy: 0.5274 - mean_absolute_error: 0.4999 - val_loss: 3.4407 - val_f1: 0.2914 - val_binary_accuracy: 0.5054 - val_mean_absolute_error: 0.5000\n",
      "Epoch 80/80\n",
      "1077/1077 [==============================] - 2s 1ms/step - loss: 3.4356 - f1: 0.5042 - binary_accuracy: 0.5097 - mean_absolute_error: 0.4999 - val_loss: 3.4297 - val_f1: 0.2914 - val_binary_accuracy: 0.5054 - val_mean_absolute_error: 0.5000\n"
     ]
    }
   ],
   "source": [
    "LOG = os.path.join('/content/new_logs', '2x128_2x64_d256_d128_lrelu_1e-4__{}'.format(int(time.time())))\n",
    "tf.reset_default_graph()\n",
    "K.clear_session()\n",
    "\n",
    "num_classes = 2\n",
    "batch_size=64\n",
    "num_train_samples= x_train.shape[0] # 374\n",
    "kernal_init = initializers.VarianceScaling(scale=2.0, mode='fan_avg', distribution='normal', seed=42)\n",
    "kernel_reg = regularizers.l2(0.01)\n",
    "\n",
    "base_model = Sequential()\n",
    "base_model.add(Conv2D(128, (9, 4), padding='valid', kernel_initializer = kernal_init,\n",
    "kernel_regularizer=kernel_reg, input_shape=(window, 4, 1), activity_regularizer=kernel_reg)) \n",
    "base_model.add(Activation('relu'))\n",
    "base_model.add(Conv2D(128, (9, 1), padding='valid', kernel_initializer = kernal_init,\n",
    "kernel_regularizer=kernel_reg, activity_regularizer=kernel_reg)) \n",
    "base_model.add(Activation('relu'))\n",
    "base_model.add(MaxPooling2D(pool_size=(2, 1), strides=2))\n",
    "\n",
    "base_model.add(Conv2D(128, (7, 1), padding='valid', kernel_initializer = kernal_init,\n",
    "kernel_regularizer=kernel_reg, activity_regularizer=kernel_reg)) \n",
    "base_model.add(Activation('relu'))\n",
    "base_model.add(Conv2D(128, (7, 1), padding='valid', kernel_initializer = kernal_init,\n",
    "kernel_regularizer=kernel_reg, activity_regularizer=kernel_reg)) \n",
    "base_model.add(Activation('relu'))\n",
    "base_model.add(MaxPooling2D(pool_size=(2, 1), strides=2))\n",
    "\n",
    "base_model.add(Flatten())\n",
    "base_model.add(Dense(256, activation='relu'))\n",
    "base_model.add(Dropout(0.5))\n",
    "base_model.add(Dense(128, activation='relu'))\n",
    "base_model.add(Dropout(0.5))\n",
    "base_model.add(Dense(num_classes))\n",
    "base_model.add(Activation('softmax'))\n",
    "\n",
    "opt = optimizers.adam(lr=1e-4) #1e-4, decay=1e-6)\n",
    "base_model.compile(optimizer=opt, loss='binary_crossentropy',\n",
    "metrics=[f1, keras.metrics.binary_accuracy, keras.metrics.mean_absolute_error])\n",
    "tbCallBack = callbacks.TensorBoard(log_dir=LOG, histogram_freq=1,\n",
    "write_graph=True,\n",
    "write_grads=True,\n",
    "batch_size=batch_size,\n",
    "write_images=True)\n",
    "\n",
    "history = base_model.fit(x_train.reshape((x_train.shape[0], window, 4,1)), y_train, \n",
    "validation_data=(x_test.reshape((x_test.shape[0], window, 4,1)), y_test), batch_size=batch_size,\n",
    "epochs=80, callbacks=[tbCallBack], verbose=1)"
   ]
  },
  {
   "cell_type": "code",
   "execution_count": 55,
   "metadata": {
    "colab": {
     "base_uri": "https://localhost:8080/",
     "height": 34
    },
    "colab_type": "code",
    "id": "tIivlUs2EfMe",
    "outputId": "7e12879b-8661-48d7-da18-33a7f6102e40"
   },
   "outputs": [
    {
     "data": {
      "text/plain": [
       "0.6780758556891767"
      ]
     },
     "execution_count": 55,
     "metadata": {
      "tags": []
     },
     "output_type": "execute_result"
    }
   ],
   "source": [
    "y_pred = base_model.predict(x_test.reshape(x_test.shape[0], window, 4, 1))\n",
    "metrics.roc_auc_score(one_hot_to_target(y_test), \n",
    "                                     (np.argmax(y_pred,axis=1)))"
   ]
  },
  {
   "cell_type": "code",
   "execution_count": 151,
   "metadata": {
    "colab": {
     "base_uri": "https://localhost:8080/",
     "height": 34
    },
    "colab_type": "code",
    "id": "JAtMYkcyICS8",
    "outputId": "691de453-1983-4f6f-a84b-dd155fc91352"
   },
   "outputs": [
    {
     "data": {
      "text/plain": [
       "1.0"
      ]
     },
     "execution_count": 151,
     "metadata": {
      "tags": []
     },
     "output_type": "execute_result"
    }
   ],
   "source": [
    "# train\n",
    "y_pred = base_model.predict(x_train.reshape(x_train.shape[0], window, 4, 1))\n",
    "metrics.roc_auc_score(one_hot_to_target(y_train), \n",
    "                                     (np.argmax(y_pred,axis=1)))"
   ]
  },
  {
   "cell_type": "code",
   "execution_count": 57,
   "metadata": {},
   "outputs": [
    {
     "data": {
      "image/png": "[encoded data removed]",
      "text/plain": [
       "<matplotlib.figure.Figure at 0x11e25f150>"
      ]
     },
     "metadata": {},
     "output_type": "display_data"
    }
   ],
   "source": [
    "conf_mtrx = metrics.confusion_matrix(one_hot_to_target(y_test), \n",
    "                                     (np.argmax(y_pred,axis=1)))\n",
    "cm = (conf_mtrx.T*1.0 / np.sum(conf_mtrx, axis=1)).T\n",
    "\n",
    "plt.figure(figsize=[2,2])\n",
    "sns.heatmap(cm, cmap='Reds', vmax=1, vmin=0, square=True, annot=True)\n",
    "plt.yticks(np.arange(2), ['background', 'loop'])\n",
    "plt.yticks(rotation=0) \n",
    "plt.show()"
   ]
  },
  {
   "cell_type": "code",
   "execution_count": 393,
   "metadata": {
    "colab": {
     "base_uri": "https://localhost:8080/",
     "height": 295
    },
    "colab_type": "code",
    "id": "s6CTfnpzkUB1",
    "outputId": "122459cf-f7ff-42ef-c08c-ea12ba72ba82"
   },
   "outputs": [
    {
     "data": {
      "image/png": "[encoded data removed]",
      "text/plain": [
       "<Figure size 432x288 with 1 Axes>"
      ]
     },
     "metadata": {
      "tags": []
     },
     "output_type": "display_data"
    }
   ],
   "source": [
    "from sklearn.metrics import roc_curve, auc\n",
    "lw = 2\n",
    "y_pred_proba = base_model.predict_proba(x_test.reshape(x_test.shape[0], window, 4, 1)) #search_cv.best_estimator_.predict_proba(X_test)\n",
    "fpr, tpr, thresholds = roc_curve(one_hot_to_target(y_test), y_pred_proba[:,1])\n",
    "roc_auc= auc(fpr, tpr)\n",
    "plt.figure()\n",
    "plt.plot(fpr, tpr, color='darkorange',\n",
    "         lw=lw, label='ROC curve (area = %0.2f)' % roc_auc)\n",
    "plt.plot([0, 1], [0, 1], color='navy', lw=lw, linestyle='--')\n",
    "plt.xlim([0.0, 1.0])\n",
    "plt.ylim([0.0, 1.05])\n",
    "plt.xlabel('False Positive Rate')\n",
    "plt.ylabel('True Positive Rate')\n",
    "plt.title('Receiver operating characteristic example')\n",
    "plt.legend(loc=\"lower right\")\n",
    "plt.show()\n"
   ]
  },
  {
   "cell_type": "code",
   "execution_count": 28,
   "metadata": {
    "colab": {
     "base_uri": "https://localhost:8080/",
     "height": 851
    },
    "colab_type": "code",
    "id": "h-6a1YEBEq80",
    "outputId": "6d878a93-c097-4905-d3a4-24bc65aec32c"
   },
   "outputs": [
    {
     "data": {
      "image/png": "[encoded data removed]",
      "text/plain": [
       "<Figure size 432x288 with 1 Axes>"
      ]
     },
     "metadata": {
      "tags": []
     },
     "output_type": "display_data"
    },
    {
     "data": {
      "image/png": "[encoded data removed]",
      "text/plain": [
       "<Figure size 432x288 with 1 Axes>"
      ]
     },
     "metadata": {
      "tags": []
     },
     "output_type": "display_data"
    },
    {
     "data": {
      "image/png": "[encoded data removed]",
      "text/plain": [
       "<Figure size 432x288 with 1 Axes>"
      ]
     },
     "metadata": {
      "tags": []
     },
     "output_type": "display_data"
    }
   ],
   "source": [
    "# Plot training & validation accuracy values\n",
    "plt.plot(history.history['binary_accuracy'])\n",
    "plt.plot(history.history['val_binary_accuracy'])\n",
    "plt.title('Model accuracy')\n",
    "plt.ylabel('Accuracy')\n",
    "plt.xlabel('Epoch')\n",
    "plt.legend(['Train', 'Test'], loc='upper left')\n",
    "plt.show()\n",
    "\n",
    "# Plot training & validation f1 values\n",
    "plt.plot(history.history['f1'])\n",
    "plt.plot(history.history['val_f1'])\n",
    "plt.title('Model f1-score')\n",
    "plt.ylabel('F1-score')\n",
    "plt.xlabel('Epoch')\n",
    "plt.legend(['Train', 'Test'], loc='upper left')\n",
    "plt.show()\n",
    "\n",
    "# Plot training & validation loss values\n",
    "plt.plot(history.history['loss'])\n",
    "plt.plot(history.history['val_loss'])\n",
    "plt.title('Model loss')\n",
    "plt.ylabel('Loss')\n",
    "plt.xlabel('Epoch')\n",
    "plt.legend(['Train', 'Test'], loc='upper left')\n",
    "plt.show()\n"
   ]
  },
  {
   "cell_type": "code",
   "execution_count": 29,
   "metadata": {
    "colab": {
     "base_uri": "https://localhost:8080/",
     "height": 34
    },
    "colab_type": "code",
    "id": "aeFwaCFdbsDz",
    "outputId": "f569a4fb-cc6a-4669-f94d-878e168f2275"
   },
   "outputs": [
    {
     "data": {
      "text/plain": [
       "[<tf.Tensor 'conv2d_5/BiasAdd:0' shape=(?, 1992, 1, 128) dtype=float32>]"
      ]
     },
     "execution_count": 29,
     "metadata": {
      "tags": []
     },
     "output_type": "execute_result"
    }
   ],
   "source": [
    "layer_outputs = [layer.output for layer in base_model.layers[:1]] \n",
    "layer_outputs"
   ]
  },
  {
   "cell_type": "code",
   "execution_count": 30,
   "metadata": {
    "colab": {
     "base_uri": "https://localhost:8080/",
     "height": 34
    },
    "colab_type": "code",
    "id": "pIT6A76h5fK3",
    "outputId": "24441435-2e9b-4a15-a611-ad09ef5e593e"
   },
   "outputs": [
    {
     "name": "stdout",
     "output_type": "stream",
     "text": [
      "(1992, 1, 128)\n"
     ]
    }
   ],
   "source": [
    "activation_model = models.Model(inputs=base_model.input, outputs=layer_outputs) # Creates a model that will return these outputs, given the model input\n",
    "x = x_train[1, :, :]\n",
    "activations = activation_model.predict(x.reshape(1, window,4,1)) # Returns a list of five Numpy arrays: one array per layer activation\n",
    "first_layer_activation = activations[0]\n",
    "print(first_layer_activation.shape)"
   ]
  },
  {
   "cell_type": "code",
   "execution_count": 130,
   "metadata": {
    "colab": {
     "base_uri": "https://localhost:8080/",
     "height": 34
    },
    "colab_type": "code",
    "id": "_v7rQeGDnvAA",
    "outputId": "7358cb27-f47e-437f-9343-d45a153959cd"
   },
   "outputs": [
    {
     "data": {
      "text/plain": [
       "(9, 4, 1, 128)"
      ]
     },
     "execution_count": 130,
     "metadata": {
      "tags": []
     },
     "output_type": "execute_result"
    }
   ],
   "source": [
    "filters.shape"
   ]
  },
  {
   "cell_type": "code",
   "execution_count": 135,
   "metadata": {
    "colab": {
     "base_uri": "https://localhost:8080/",
     "height": 34
    },
    "colab_type": "code",
    "id": "dSLhYpOiqoW_",
    "outputId": "37c514f1-4e60-4bfd-debb-af89443cdf4b"
   },
   "outputs": [
    {
     "data": {
      "text/plain": [
       "(1, 1992, 1, 128)"
      ]
     },
     "execution_count": 135,
     "metadata": {
      "tags": []
     },
     "output_type": "execute_result"
    }
   ],
   "source": [
    "activations.shape"
   ]
  },
  {
   "cell_type": "code",
   "execution_count": 0,
   "metadata": {
    "colab": {},
    "colab_type": "code",
    "collapsed": true,
    "id": "15KNKp3LlciE"
   },
   "outputs": [],
   "source": [
    "nuc_cnts = [0]*4 # background\n",
    "for i in range(0,n_samples):\n",
    "    x = x_train[i, :, :]\n",
    "    activations = activation_model.predict(x.reshape(1, window,4,1)) # one array per layer activation\n",
    "    first_layer_activation = activations[0]\n",
    "    mean = np.mean(first_layer_activation[:,:,f_i].T[0])\n",
    "    activ_seq_ind = np.where(first_layer_activation[:, :, f_i].T > mean)[1] \n",
    "    for i in activ_seq_ind:\n",
    "        seq = x[i:i+9, :]\n",
    "        nuc_cnts = np.add(nuc_cnts, [np.sum(seq[:, 0]), np.sum(seq[:, 1]), np.sum(seq[:, 2]), np.sum(seq[:, 3])])\n",
    "nuc_cnts = nuc_cnts / (n_samples*len(activ_seq_ind)*9)"
   ]
  },
  {
   "cell_type": "code",
   "execution_count": 0,
   "metadata": {
    "colab": {},
    "colab_type": "code",
    "collapsed": true,
    "id": "FmuvB_ZiY_5p"
   },
   "outputs": [],
   "source": [
    "n_samples = 100\n",
    "filters_max = [0]*128\n",
    "filter_thres = [0]*128\n",
    "for f_i in range(0,128):\n",
    "    for i in range(0,n_samples):\n",
    "        x = x_train[i*10, :, :]\n",
    "        activations = activation_model.predict(x.reshape(1, window,4,1)) # one array per layer activation\n",
    "        first_layer_activation = activations[0]\n",
    "        filter_thres[f_i] = filter_thres[f_i] + np.sum(first_layer_activation[:,:,f_i])\n",
    "        for a in first_layer_activation[:,:,f_i]:\n",
    "            if a > filters_max[f_i]:\n",
    "                filters_max[f_i] = a\n",
    "filter_thres = np.divide(filter_thres, (first_layer_activation.shape[0]*n_samples))"
   ]
  },
  {
   "cell_type": "code",
   "execution_count": 45,
   "metadata": {
    "colab": {
     "base_uri": "https://localhost:8080/",
     "height": 34
    },
    "colab_type": "code",
    "id": "sL-2M376bWxm",
    "outputId": "f080fce1-e16f-4053-f772-c4483fbe2499"
   },
   "outputs": [
    {
     "data": {
      "text/plain": [
       "array([0.42187592], dtype=float32)"
      ]
     },
     "execution_count": 45,
     "metadata": {
      "tags": []
     },
     "output_type": "execute_result"
    }
   ],
   "source": [
    "filters_max[0]"
   ]
  },
  {
   "cell_type": "code",
   "execution_count": 46,
   "metadata": {
    "colab": {
     "base_uri": "https://localhost:8080/",
     "height": 34
    },
    "colab_type": "code",
    "id": "cSlz3OPpZ_RG",
    "outputId": "f7b7cbe3-054f-4ae2-ba9b-65427c8e0259"
   },
   "outputs": [
    {
     "data": {
      "text/plain": [
       "0.12089999585745326"
      ]
     },
     "execution_count": 46,
     "metadata": {
      "tags": []
     },
     "output_type": "execute_result"
    }
   ],
   "source": [
    "filter_thres[0]"
   ]
  },
  {
   "cell_type": "code",
   "execution_count": 0,
   "metadata": {
    "colab": {
     "base_uri": "https://localhost:8080/",
     "height": 34
    },
    "colab_type": "code",
    "id": "ldweBRGTaiDh",
    "outputId": "120f9322-27f0-4dfb-e383-a9d067b6d3a2"
   },
   "outputs": [
    {
     "data": {
      "text/plain": [
       "(0.1183683, 0.37974006)"
      ]
     },
     "execution_count": 32,
     "metadata": {
      "tags": []
     },
     "output_type": "execute_result"
    }
   ],
   "source": [
    "np.mean(first_layer_activation[:,:,0]), np.max(first_layer_activation[:,:,0])"
   ]
  },
  {
   "cell_type": "code",
   "execution_count": 0,
   "metadata": {
    "colab": {},
    "colab_type": "code",
    "collapsed": true,
    "id": "7Mcu-W08jjEG"
   },
   "outputs": [],
   "source": [
    "n_samples = 100\n",
    "with open('/content/sample_data/filters.txt', 'w') as out:\n",
    "    for f_i in range(0,128):\n",
    "        pwms = np.array([[0]*4]*9)\n",
    "        for i in range(0,n_samples):\n",
    "            x = x_train[i, :, :]\n",
    "            activations = activation_model.predict(x.reshape(1, window,4,1)) # one array per layer activation\n",
    "            first_layer_activation = activations[0]\n",
    "            mean = np.max(first_layer_activation[:,:,f_i].T[0]) / 2\n",
    "            activ_seq_ind = np.where(first_layer_activation[:, :, f_i].T > mean)[1]  \n",
    "        for j in activ_seq_ind:\n",
    "            seq = x[j:j+9, :]\n",
    "            pwms = np.add(pwms, seq)\n",
    "        pwms = pwms / (len(activ_seq_ind)*n_samples)\n",
    "\n",
    "        out.write('>Filter ' + str(f_i) + '\\n')\n",
    "        #out.write('Pos\\tA\\tC\\tG\\tT\\n')\n",
    "        for j in range(0, 9):\n",
    "            s = str((pwms[j,0])) + '\\t' + \\\n",
    "                str((pwms[j,1])) + '\\t' + \\\n",
    "                str((pwms[j,2])) + '\\t' + \\\n",
    "                str((pwms[j,3])) + '\\n'\n",
    "            out.write(s)\n",
    "        out.write('\\n')"
   ]
  },
  {
   "cell_type": "code",
   "execution_count": 113,
   "metadata": {
    "colab": {
     "base_uri": "https://localhost:8080/",
     "height": 170
    },
    "colab_type": "code",
    "id": "i7mN7wmjiEef",
    "outputId": "b0ab4bed-41a9-4dbc-f70a-ffedc618725c"
   },
   "outputs": [
    {
     "data": {
      "text/plain": [
       "array([[0.36501517, 0.0859454 , 0.08291203, 0.4661274 ],\n",
       "       [0.31142568, 0.08291203, 0.13953488, 0.4661274 ],\n",
       "       [0.53488372, 0.11223458, 0.17492417, 0.17795753],\n",
       "       [0.54196158, 0.04145602, 0.13043478, 0.28614762],\n",
       "       [0.38624874, 0.06167846, 0.13043478, 0.42163802],\n",
       "       [0.38523761, 0.11223458, 0.10717897, 0.39534884],\n",
       "       [0.21233569, 0.07178969, 0.08998989, 0.62588473],\n",
       "       [0.34479272, 0.10313448, 0.15065723, 0.40141557],\n",
       "       [0.49949444, 0.11729019, 0.11729019, 0.26592518]])"
      ]
     },
     "execution_count": 113,
     "metadata": {
      "tags": []
     },
     "output_type": "execute_result"
    }
   ],
   "source": [
    "pwms / 989"
   ]
  },
  {
   "cell_type": "code",
   "execution_count": 54,
   "metadata": {
    "colab": {
     "base_uri": "https://localhost:8080/",
     "height": 34
    },
    "colab_type": "code",
    "id": "bdfC9zaDRM_Y",
    "outputId": "f9eb0cdb-64fd-449d-9b3d-776bb1bc61f7"
   },
   "outputs": [
    {
     "data": {
      "text/plain": [
       "0.110091105"
      ]
     },
     "execution_count": 54,
     "metadata": {
      "tags": []
     },
     "output_type": "execute_result"
    }
   ],
   "source": [
    "mean = np.mean(first_layer_activation[:,:,0].T[0])\n",
    "mean"
   ]
  },
  {
   "cell_type": "code",
   "execution_count": 75,
   "metadata": {
    "colab": {
     "base_uri": "https://localhost:8080/",
     "height": 124
    },
    "colab_type": "code",
    "id": "fwcuxPhPgYhu",
    "outputId": "376046f2-4b7f-4272-87fc-0ca7311f87b0"
   },
   "outputs": [
    {
     "data": {
      "text/plain": [
       "<matplotlib.image.AxesImage at 0x7fd9c9b084d0>"
      ]
     },
     "execution_count": 75,
     "metadata": {
      "tags": []
     },
     "output_type": "execute_result"
    },
    {
     "data": {
      "image/png": "[encoded data removed]",
      "text/plain": [
       "<Figure size 1152x144 with 1 Axes>"
      ]
     },
     "metadata": {
      "tags": []
     },
     "output_type": "display_data"
    }
   ],
   "source": [
    "plt.matshow(first_layer_activation[:100, :, 0].T) #, cmap='viridis')\n"
   ]
  },
  {
   "cell_type": "code",
   "execution_count": 0,
   "metadata": {
    "colab": {},
    "colab_type": "code",
    "collapsed": true,
    "id": "xAk32G8qcnBH"
   },
   "outputs": [],
   "source": [
    "layer_weights = np.array(model3.layers[0].get_weights())\n"
   ]
  },
  {
   "cell_type": "code",
   "execution_count": 94,
   "metadata": {
    "colab": {
     "base_uri": "https://localhost:8080/",
     "height": 34
    },
    "colab_type": "code",
    "id": "DsO0rx1hNzuv",
    "outputId": "ab3a65ec-7b69-464d-89a3-60b15a568dd3"
   },
   "outputs": [
    {
     "data": {
      "text/plain": [
       "(9, 128)"
      ]
     },
     "execution_count": 94,
     "metadata": {
      "tags": []
     },
     "output_type": "execute_result"
    }
   ],
   "source": [
    "len(layer_weights[0]), len(layer_weights[1])"
   ]
  },
  {
   "cell_type": "code",
   "execution_count": 0,
   "metadata": {
    "colab": {},
    "colab_type": "code",
    "collapsed": true,
    "id": "3MtBem-deCpF"
   },
   "outputs": [],
   "source": [
    "filters = base_model.layers[0].get_weights()"
   ]
  },
  {
   "cell_type": "code",
   "execution_count": 0,
   "metadata": {
    "colab": {},
    "colab_type": "code",
    "collapsed": true,
    "id": "ukyaOdCpCEDB"
   },
   "outputs": [],
   "source": [
    "filters = filters[0]"
   ]
  },
  {
   "cell_type": "code",
   "execution_count": 0,
   "metadata": {
    "colab": {},
    "colab_type": "code",
    "collapsed": true,
    "id": "LAMpm7GGEFch"
   },
   "outputs": [],
   "source": [
    "filters_cp = filters"
   ]
  },
  {
   "cell_type": "code",
   "execution_count": 62,
   "metadata": {
    "colab": {
     "base_uri": "https://localhost:8080/",
     "height": 34
    },
    "colab_type": "code",
    "id": "l7CA1ANOCGu-",
    "outputId": "b437d374-e153-4810-92d8-7fdfce2bbd47"
   },
   "outputs": [
    {
     "data": {
      "text/plain": [
       "(9, 4, 1, 128)"
      ]
     },
     "execution_count": 62,
     "metadata": {
      "tags": []
     },
     "output_type": "execute_result"
    }
   ],
   "source": [
    "np.shape(filters)"
   ]
  },
  {
   "cell_type": "code",
   "execution_count": 0,
   "metadata": {
    "colab": {},
    "colab_type": "code",
    "collapsed": true,
    "id": "KQM2FFsVCTJ5"
   },
   "outputs": [],
   "source": [
    "norm_filters = []\n",
    "for i in range(0, 128):\n",
    "    norm_filter = []\n",
    "    for j in range(0, 9):\n",
    "        f = filters[j,:,:,i]\n",
    "        #norm_f = (f - f_min) / (f_max - f_min)\n",
    "        norm_f = (f-np.min(f)) / (np.sum(f-np.min(f)))\n",
    "        norm_filter.append(norm_f)\n",
    "    norm_filters.append(norm_filter)"
   ]
  },
  {
   "cell_type": "code",
   "execution_count": 366,
   "metadata": {
    "colab": {
     "base_uri": "https://localhost:8080/",
     "height": 34
    },
    "colab_type": "code",
    "id": "A1jtwxQCZqKc",
    "outputId": "6533671d-9118-4dbb-b21a-0b75947a2b94"
   },
   "outputs": [
    {
     "data": {
      "text/plain": [
       "(128, 9, 4, 1)"
      ]
     },
     "execution_count": 366,
     "metadata": {
      "tags": []
     },
     "output_type": "execute_result"
    }
   ],
   "source": [
    "np.shape(norm_filters)"
   ]
  },
  {
   "cell_type": "code",
   "execution_count": 368,
   "metadata": {
    "colab": {
     "base_uri": "https://localhost:8080/",
     "height": 85
    },
    "colab_type": "code",
    "id": "GxXlazZHavCK",
    "outputId": "7713f74b-c370-43f6-b2cf-1b8789077d63"
   },
   "outputs": [
    {
     "data": {
      "text/plain": [
       "array([[0.        ],\n",
       "       [0.42524558],\n",
       "       [0.42388323],\n",
       "       [0.15087114]], dtype=float32)"
      ]
     },
     "execution_count": 368,
     "metadata": {
      "tags": []
     },
     "output_type": "execute_result"
    }
   ],
   "source": [
    "norm_filters[0][0]"
   ]
  },
  {
   "cell_type": "code",
   "execution_count": 274,
   "metadata": {
    "colab": {
     "base_uri": "https://localhost:8080/",
     "height": 106
    },
    "colab_type": "code",
    "id": "zEB_x6SOEI9e",
    "outputId": "689dfee3-4825-4468-ca9c-8ab1847428b0"
   },
   "outputs": [
    {
     "data": {
      "image/png": "[encoded data removed]",
      "text/plain": [
       "<Figure size 432x288 with 6 Axes>"
      ]
     },
     "metadata": {
      "tags": []
     },
     "output_type": "display_data"
    }
   ],
   "source": [
    "from matplotlib import pyplot\n",
    "\n",
    "# plot first few filters\n",
    "n_filters, ix = 6, 1\n",
    "for i in range(n_filters):\n",
    "    # get the filter\n",
    "    f = filters[:, :, :, i]\n",
    "    # plot each channel separately\n",
    "    #for j in range(3):\n",
    "    # specify subplot and turn of axis\n",
    "    ax = pyplot.subplot(n_filters, 3, ix)\n",
    "    ax.set_xticks([])\n",
    "    ax.set_yticks([])\n",
    "    # plot filter channel in grayscale\n",
    "    pyplot.imshow(f[:, :, 0], cmap='gray')\n",
    "    ix += 1\n",
    "# show the figure\n",
    "pyplot.show()"
   ]
  },
  {
   "cell_type": "code",
   "execution_count": 285,
   "metadata": {
    "colab": {
     "base_uri": "https://localhost:8080/",
     "height": 547
    },
    "colab_type": "code",
    "id": "LqTfxwWuFuUj",
    "outputId": "b6b810cf-7367-4f8e-e1df-e7dbb56b37b2"
   },
   "outputs": [
    {
     "data": {
      "text/plain": [
       "(array([0, 1, 2, 3]), <a list of 4 Text xticklabel objects>)"
      ]
     },
     "execution_count": 285,
     "metadata": {
      "tags": []
     },
     "output_type": "execute_result"
    },
    {
     "data": {
      "image/png": "[encoded data removed]",
      "text/plain": [
       "<Figure size 288x648 with 2 Axes>"
      ]
     },
     "metadata": {
      "tags": []
     },
     "output_type": "display_data"
    }
   ],
   "source": [
    "f = norm_filters[:, :, :, 0]\n",
    "plt.figure(figsize=[4,9])\n",
    "sns.heatmap(f[:, :, 0], cmap='Reds', vmax=1, vmin=0, square=True)\n",
    "plt.xticks(np.arange(4), ['A', 'C', 'G', 'T']) \n",
    "plt.xticks(rotation=0) "
   ]
  },
  {
   "cell_type": "code",
   "execution_count": 0,
   "metadata": {
    "colab": {},
    "colab_type": "code",
    "collapsed": true,
    "id": "maBfaQW_GOoQ"
   },
   "outputs": [],
   "source": [
    "with open('/content/sample_data/filters.txt', 'w') as out:\n",
    "    for i in range(0, 128):\n",
    "        f = norm_filters[i]\n",
    "        out.write('Filter ' + str(i) + '\\n')\n",
    "        out.write('Pos\\tA\\tC\\tG\\tT\\n')\n",
    "        for j in range(0, 9):\n",
    "            s = str(j) + '\\t' + str(f[j][0][0]) + '\\t' + str(f[j][1][0]) + '\\t' + \\\n",
    "            str(f[j][2][0]) + '\\t' + str(f[j][3][0]) + '\\n'\n",
    "            out.write(s)\n",
    "        out.write('\\n')"
   ]
  }
 ],
 "metadata": {
  "accelerator": "GPU",
  "colab": {
   "collapsed_sections": [],
   "name": "1.ipynb",
   "provenance": [],
   "version": "0.3.2"
  },
  "kernelspec": {
   "display_name": "Python 2",
   "language": "python",
   "name": "python2"
  },
  "language_info": {
   "codemirror_mode": {
    "name": "ipython",
    "version": 2
   },
   "file_extension": ".py",
   "mimetype": "text/x-python",
   "name": "python",
   "nbconvert_exporter": "python",
   "pygments_lexer": "ipython2",
   "version": "2.7.15"
  }
 },
 "nbformat": 4,
 "nbformat_minor": 1
}
