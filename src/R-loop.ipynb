{
 "cells": [
  {
   "cell_type": "markdown",
   "metadata": {},
   "source": [
    "# Обогащение R-loops"
   ]
  },
  {
   "cell_type": "markdown",
   "metadata": {},
   "source": [
    "## 1. Читаем из файла"
   ]
  },
  {
   "cell_type": "code",
   "execution_count": 3,
   "metadata": {
    "collapsed": true
   },
   "outputs": [],
   "source": [
    "import pandas as pd\n",
    "import numpy as np"
   ]
  },
  {
   "cell_type": "code",
   "execution_count": 4,
   "metadata": {},
   "outputs": [
    {
     "data": {
      "text/html": [
       "<div>\n",
       "<style scoped>\n",
       "    .dataframe tbody tr th:only-of-type {\n",
       "        vertical-align: middle;\n",
       "    }\n",
       "\n",
       "    .dataframe tbody tr th {\n",
       "        vertical-align: top;\n",
       "    }\n",
       "\n",
       "    .dataframe thead th {\n",
       "        text-align: right;\n",
       "    }\n",
       "</style>\n",
       "<table border=\"1\" class=\"dataframe\">\n",
       "  <thead>\n",
       "    <tr style=\"text-align: right;\">\n",
       "      <th></th>\n",
       "      <th>Chr</th>\n",
       "      <th>ID</th>\n",
       "      <th>Genomic bin, Left base</th>\n",
       "      <th>Genomic bin, Right base</th>\n",
       "      <th>Size (Kb)</th>\n",
       "      <th>\"Extrusion track\"</th>\n",
       "      <th>Note for extrusion tracks: 0=n/a, 1=from the left base, 2=from the right base</th>\n",
       "    </tr>\n",
       "  </thead>\n",
       "  <tbody>\n",
       "    <tr>\n",
       "      <th>0</th>\n",
       "      <td>1</td>\n",
       "      <td>1</td>\n",
       "      <td>107</td>\n",
       "      <td>114</td>\n",
       "      <td>16</td>\n",
       "      <td>0</td>\n",
       "      <td>NaN</td>\n",
       "    </tr>\n",
       "    <tr>\n",
       "      <th>1</th>\n",
       "      <td>1</td>\n",
       "      <td>2</td>\n",
       "      <td>114</td>\n",
       "      <td>123</td>\n",
       "      <td>20</td>\n",
       "      <td>1</td>\n",
       "      <td>NaN</td>\n",
       "    </tr>\n",
       "    <tr>\n",
       "      <th>2</th>\n",
       "      <td>1</td>\n",
       "      <td>3</td>\n",
       "      <td>176</td>\n",
       "      <td>187</td>\n",
       "      <td>24</td>\n",
       "      <td>2</td>\n",
       "      <td>NaN</td>\n",
       "    </tr>\n",
       "    <tr>\n",
       "      <th>3</th>\n",
       "      <td>1</td>\n",
       "      <td>4</td>\n",
       "      <td>187</td>\n",
       "      <td>194</td>\n",
       "      <td>16</td>\n",
       "      <td>0</td>\n",
       "      <td>NaN</td>\n",
       "    </tr>\n",
       "    <tr>\n",
       "      <th>4</th>\n",
       "      <td>1</td>\n",
       "      <td>5</td>\n",
       "      <td>194</td>\n",
       "      <td>209</td>\n",
       "      <td>32</td>\n",
       "      <td>2</td>\n",
       "      <td>NaN</td>\n",
       "    </tr>\n",
       "  </tbody>\n",
       "</table>\n",
       "</div>"
      ],
      "text/plain": [
       "   Chr  ID  Genomic bin, Left base  Genomic bin, Right base  Size (Kb)  \\\n",
       "0    1   1                     107                      114         16   \n",
       "1    1   2                     114                      123         20   \n",
       "2    1   3                     176                      187         24   \n",
       "3    1   4                     187                      194         16   \n",
       "4    1   5                     194                      209         32   \n",
       "\n",
       "   \"Extrusion track\"  \\\n",
       "0                  0   \n",
       "1                  1   \n",
       "2                  2   \n",
       "3                  0   \n",
       "4                  2   \n",
       "\n",
       "   Note for extrusion tracks: 0=n/a, 1=from the left base, 2=from the right base  \n",
       "0                                                NaN                              \n",
       "1                                                NaN                              \n",
       "2                                                NaN                              \n",
       "3                                                NaN                              \n",
       "4                                                NaN                              "
      ]
     },
     "execution_count": 4,
     "metadata": {},
     "output_type": "execute_result"
    }
   ],
   "source": [
    "loops_info = pd.read_excel('../data/dicty_loop_positions_Chr1_Chr6.xlsx')\n",
    "window = 2000\n",
    "loops_info.head()"
   ]
  },
  {
   "cell_type": "code",
   "execution_count": 5,
   "metadata": {},
   "outputs": [
    {
     "data": {
      "text/plain": [
       "['chr1', 'chr6']"
      ]
     },
     "execution_count": 5,
     "metadata": {},
     "output_type": "execute_result"
    }
   ],
   "source": [
    "chr_pattern = 'chr'\n",
    "chr_with_loops = sorted(loops_info.Chr.unique())\n",
    "chr_with_loops = [chr_pattern + str(chr) for chr in chr_with_loops]\n",
    "chr_with_loops"
   ]
  },
  {
   "cell_type": "markdown",
   "metadata": {},
   "source": [
    "### 1.1 Позиции R-loops в хромосомах, где есть петли"
   ]
  },
  {
   "cell_type": "code",
   "execution_count": 49,
   "metadata": {
    "collapsed": true
   },
   "outputs": [],
   "source": [
    "chr_r_loop_pos = {}\n",
    "genome_occurs = 0\n",
    "lines = []\n",
    "with open('../data/R-loop/r_loops.out.bed') as inp:\n",
    "    for line in inp:\n",
    "        line = line.replace('\\n', '')   \n",
    "        row = line.split('\\t')\n",
    "        chr_name = row[0]\n",
    "        if not(chr_name in chr_with_loops):\n",
    "            continue\n",
    "        start, end = int(row[1]) / window, int(row[2]) / window\n",
    "        chr_r_loop_pos[chr_name] = chr_r_loop_pos.get(chr_name, {})\n",
    "        chr_r_loop_pos[chr_name][start] = chr_r_loop_pos[chr_name].get(start, 0) + 1\n",
    "        genome_occurs = genome_occurs + 1\n",
    "        lines.append([chr_name, int(row[1]), int(row[2])])"
   ]
  },
  {
   "cell_type": "code",
   "execution_count": 23,
   "metadata": {
    "scrolled": true
   },
   "outputs": [
    {
     "data": {
      "text/plain": [
       "{'chr1': {338: 1, 520: 3, 584: 1}, 'chr6': {1366: 14, 1395: 3, 1682: 11}}"
      ]
     },
     "execution_count": 23,
     "metadata": {},
     "output_type": "execute_result"
    }
   ],
   "source": [
    "chr_r_loop_pos"
   ]
  },
  {
   "cell_type": "markdown",
   "metadata": {},
   "source": [
    "### 1.2 Схлопываем overlaps"
   ]
  },
  {
   "cell_type": "code",
   "execution_count": 66,
   "metadata": {
    "collapsed": true,
    "scrolled": true
   },
   "outputs": [],
   "source": [
    "lines_chr1 = [ar for ar in lines if ar[0] == 'chr1']\n",
    "lines_chr6 = [ar for ar in lines if ar[0] == 'chr6']"
   ]
  },
  {
   "cell_type": "code",
   "execution_count": 56,
   "metadata": {
    "collapsed": true
   },
   "outputs": [],
   "source": [
    "lines_chr1.sort(key = lambda ar: ar[1])\n",
    "lines_chr6.sort(key = lambda ar: ar[1])"
   ]
  },
  {
   "cell_type": "code",
   "execution_count": 58,
   "metadata": {},
   "outputs": [
    {
     "data": {
      "text/plain": [
       "[['chr1', 676313, 676429],\n",
       " ['chr1', 1040105, 1040259],\n",
       " ['chr1', 1040105, 1040263],\n",
       " ['chr1', 1040123, 1040256],\n",
       " ['chr1', 1168811, 1168934],\n",
       " ['chr6', 2732148, 2733223],\n",
       " ['chr6', 2732220, 2733183],\n",
       " ['chr6', 2732292, 2733105],\n",
       " ['chr6', 2732437, 2733034],\n",
       " ['chr6', 2732505, 2733004],\n",
       " ['chr6', 2732527, 2733003],\n",
       " ['chr6', 2732595, 2732881],\n",
       " ['chr6', 2732595, 2732881],\n",
       " ['chr6', 2732690, 2732881],\n",
       " ['chr6', 2732694, 2732881],\n",
       " ['chr6', 2732804, 2733034],\n",
       " ['chr6', 2732808, 2733034],\n",
       " ['chr6', 2732852, 2733011],\n",
       " ['chr6', 2732852, 2733011],\n",
       " ['chr6', 2790735, 2790894],\n",
       " ['chr6', 2790735, 2790894],\n",
       " ['chr6', 2790758, 2790894],\n",
       " ['chr6', 3364852, 3365309],\n",
       " ['chr6', 3364852, 3365313],\n",
       " ['chr6', 3364886, 3365281],\n",
       " ['chr6', 3364886, 3365287],\n",
       " ['chr6', 3364922, 3365260],\n",
       " ['chr6', 3364922, 3365273],\n",
       " ['chr6', 3364966, 3365248],\n",
       " ['chr6', 3364974, 3365212],\n",
       " ['chr6', 3364979, 3365206],\n",
       " ['chr6', 3365023, 3365179],\n",
       " ['chr6', 3365023, 3365196]]"
      ]
     },
     "execution_count": 58,
     "metadata": {},
     "output_type": "execute_result"
    }
   ],
   "source": [
    "lines = lines_chr1 + lines_chr6\n",
    "lines"
   ]
  },
  {
   "cell_type": "code",
   "execution_count": 65,
   "metadata": {
    "collapsed": true
   },
   "outputs": [],
   "source": [
    "with open('../data/R-loop/r_loops_chr1_6.bed', 'w') as out:\n",
    "    for line in lines:\n",
    "        s = '\\t'.join(str(l) for l in line) + '\\n'\n",
    "        out.write(s)"
   ]
  },
  {
   "cell_type": "code",
   "execution_count": 67,
   "metadata": {
    "collapsed": true
   },
   "outputs": [],
   "source": [
    "!bedtools merge -i '../data/R-loop/r_loops_chr1_6.bed' > '../data/R-loop/r_loops_merged.out.bed'"
   ]
  },
  {
   "cell_type": "code",
   "execution_count": 68,
   "metadata": {
    "collapsed": true
   },
   "outputs": [],
   "source": [
    "chr_r_loop_merged_pos = {}\n",
    "genome_occurs = 0\n",
    "with open('../data/R-loop/r_loops_merged.out.bed') as inp:\n",
    "    for line in inp:\n",
    "        line = line.replace('\\n', '')   \n",
    "        row = line.split('\\t')\n",
    "        chr_name = row[0]\n",
    "        if not(chr_name in chr_with_loops):\n",
    "            continue\n",
    "        start, end = int(row[1]) / window, int(row[2]) / window\n",
    "        chr_r_loop_merged_pos[chr_name] = chr_r_loop_merged_pos.get(chr_name, {})\n",
    "        chr_r_loop_merged_pos[chr_name][start] = chr_r_loop_merged_pos[chr_name].get(start, 0) + 1\n",
    "        genome_occurs = genome_occurs + 1"
   ]
  },
  {
   "cell_type": "code",
   "execution_count": 69,
   "metadata": {},
   "outputs": [
    {
     "data": {
      "text/plain": [
       "{'chr1': {338: 1, 520: 1, 584: 1}, 'chr6': {1366: 1, 1395: 1, 1682: 1}}"
      ]
     },
     "execution_count": 69,
     "metadata": {},
     "output_type": "execute_result"
    }
   ],
   "source": [
    "chr_r_loop_merged_pos"
   ]
  },
  {
   "cell_type": "code",
   "execution_count": 11,
   "metadata": {
    "collapsed": true
   },
   "outputs": [],
   "source": [
    "r_df = pd.DataFrame(columns=['Chr', 'start', 'end'])\n",
    "for chr_name, d in chr_r_loop_merged_pos.iteritems():\n",
    "    for start, end in d.iteritems():\n",
    "        r_df = r_df.append({'Chr': chr_name, 'start': start, 'end': end}, ignore_index=True)"
   ]
  },
  {
   "cell_type": "code",
   "execution_count": 12,
   "metadata": {},
   "outputs": [
    {
     "data": {
      "text/html": [
       "<div>\n",
       "<style scoped>\n",
       "    .dataframe tbody tr th:only-of-type {\n",
       "        vertical-align: middle;\n",
       "    }\n",
       "\n",
       "    .dataframe tbody tr th {\n",
       "        vertical-align: top;\n",
       "    }\n",
       "\n",
       "    .dataframe thead th {\n",
       "        text-align: right;\n",
       "    }\n",
       "</style>\n",
       "<table border=\"1\" class=\"dataframe\">\n",
       "  <thead>\n",
       "    <tr style=\"text-align: right;\">\n",
       "      <th></th>\n",
       "      <th>Chr</th>\n",
       "      <th>start</th>\n",
       "      <th>end</th>\n",
       "    </tr>\n",
       "  </thead>\n",
       "  <tbody>\n",
       "    <tr>\n",
       "      <th>0</th>\n",
       "      <td>chr6</td>\n",
       "      <td>3364852</td>\n",
       "      <td>3365313</td>\n",
       "    </tr>\n",
       "    <tr>\n",
       "      <th>1</th>\n",
       "      <td>chr6</td>\n",
       "      <td>2732148</td>\n",
       "      <td>2733223</td>\n",
       "    </tr>\n",
       "    <tr>\n",
       "      <th>2</th>\n",
       "      <td>chr6</td>\n",
       "      <td>2790735</td>\n",
       "      <td>2790894</td>\n",
       "    </tr>\n",
       "    <tr>\n",
       "      <th>3</th>\n",
       "      <td>chr1</td>\n",
       "      <td>676313</td>\n",
       "      <td>676429</td>\n",
       "    </tr>\n",
       "    <tr>\n",
       "      <th>4</th>\n",
       "      <td>chr1</td>\n",
       "      <td>1168811</td>\n",
       "      <td>1168934</td>\n",
       "    </tr>\n",
       "    <tr>\n",
       "      <th>5</th>\n",
       "      <td>chr1</td>\n",
       "      <td>1040105</td>\n",
       "      <td>1040263</td>\n",
       "    </tr>\n",
       "  </tbody>\n",
       "</table>\n",
       "</div>"
      ],
      "text/plain": [
       "    Chr    start      end\n",
       "0  chr6  3364852  3365313\n",
       "1  chr6  2732148  2733223\n",
       "2  chr6  2790735  2790894\n",
       "3  chr1   676313   676429\n",
       "4  chr1  1168811  1168934\n",
       "5  chr1  1040105  1040263"
      ]
     },
     "execution_count": 12,
     "metadata": {},
     "output_type": "execute_result"
    }
   ],
   "source": [
    "r_df"
   ]
  },
  {
   "cell_type": "markdown",
   "metadata": {},
   "source": [
    "### 1.3 Сопоставление с позициями петель "
   ]
  },
  {
   "cell_type": "code",
   "execution_count": 81,
   "metadata": {
    "collapsed": true
   },
   "outputs": [],
   "source": [
    "df_rloop = pd.DataFrame(columns=['chr', 'rloop_pos', 'left_loop_cnt', 'right_loop_cnt', 'inner_loop_cnt'])\n",
    "\n",
    "for chr_name,d in chr_r_loop_pos.iteritems():\n",
    "    chr_name = int(chr_name[3:])\n",
    "    l_info = loops_info[loops_info['Chr'] == chr_name] # фильтруем только петли для данной хромосомы\n",
    "    for rloop_pos,cnt in d.iteritems():\n",
    "        left_cnt = 0\n",
    "        right_cnt = 0\n",
    "        inner_cnt = 0\n",
    "        for _,row in loops_info.iterrows():\n",
    "            left = row['Genomic bin, Left base']\n",
    "            right = row['Genomic bin, Right base']\n",
    "            if rloop_pos < left - 1:\n",
    "                break\n",
    "                \n",
    "            if (rloop_pos >= left-1) and (rloop_pos <= left+1):\n",
    "                left_cnt = left_cnt + cnt\n",
    "            elif (rloop_pos >= right-1) and (rloop_pos <= right+1):\n",
    "                right_cnt = right_cnt + cnt\n",
    "            elif (rloop_pos > left+1) and (rloop_pos < right-1):\n",
    "                inner_cnt = inner_cnt + cnt\n",
    "        df_rloop = df_rloop.append({'chr': 'chr' + str(chr_name), \\\n",
    "                              'rloop_pos': rloop_pos, \\\n",
    "                              'left_loop_cnt': left_cnt, \\\n",
    "                              'right_loop_cnt': right_cnt, \\\n",
    "                              'inner_loop_cnt': inner_cnt}, ignore_index = True)"
   ]
  },
  {
   "cell_type": "code",
   "execution_count": 83,
   "metadata": {
    "collapsed": true
   },
   "outputs": [],
   "source": [
    "df_merged_rloop = pd.DataFrame(columns=['chr', 'rloop_pos', 'left_loop_cnt', 'right_loop_cnt', 'inner_loop_cnt'])\n",
    "\n",
    "for chr_name,d in chr_r_loop_merged_pos.iteritems():\n",
    "    chr_name = int(chr_name[3:])\n",
    "    l_info = loops_info[loops_info['Chr'] == chr_name] # фильтруем только петли для данной хромосомы\n",
    "    for rloop_pos,cnt in d.iteritems():\n",
    "        left_cnt = 0\n",
    "        right_cnt = 0\n",
    "        inner_cnt = 0\n",
    "        for _,row in loops_info.iterrows():\n",
    "            left = row['Genomic bin, Left base']\n",
    "            right = row['Genomic bin, Right base']\n",
    "            if rloop_pos < left - 1:\n",
    "                break\n",
    "                \n",
    "            if (rloop_pos >= left-1) and (rloop_pos <= left+1):\n",
    "                left_cnt = left_cnt + cnt\n",
    "            elif (rloop_pos >= right-1) and (rloop_pos <= right+1):\n",
    "                right_cnt = right_cnt + cnt\n",
    "            elif (rloop_pos > left+1) and (rloop_pos < right-1):\n",
    "                inner_cnt = inner_cnt + cnt\n",
    "        df_merged_rloop = df_merged_rloop.append({'chr': 'chr' + str(chr_name), \\\n",
    "                              'rloop_pos': rloop_pos, \\\n",
    "                              'left_loop_cnt': left_cnt, \\\n",
    "                              'right_loop_cnt': right_cnt, \\\n",
    "                              'inner_loop_cnt': inner_cnt}, ignore_index = True)"
   ]
  },
  {
   "cell_type": "code",
   "execution_count": 85,
   "metadata": {},
   "outputs": [
    {
     "data": {
      "text/html": [
       "<div>\n",
       "<style scoped>\n",
       "    .dataframe tbody tr th:only-of-type {\n",
       "        vertical-align: middle;\n",
       "    }\n",
       "\n",
       "    .dataframe tbody tr th {\n",
       "        vertical-align: top;\n",
       "    }\n",
       "\n",
       "    .dataframe thead th {\n",
       "        text-align: right;\n",
       "    }\n",
       "</style>\n",
       "<table border=\"1\" class=\"dataframe\">\n",
       "  <thead>\n",
       "    <tr style=\"text-align: right;\">\n",
       "      <th></th>\n",
       "      <th>chr</th>\n",
       "      <th>rloop_pos</th>\n",
       "      <th>left_loop_cnt</th>\n",
       "      <th>right_loop_cnt</th>\n",
       "      <th>inner_loop_cnt</th>\n",
       "    </tr>\n",
       "  </thead>\n",
       "  <tbody>\n",
       "    <tr>\n",
       "      <th>0</th>\n",
       "      <td>chr6</td>\n",
       "      <td>1682</td>\n",
       "      <td>0</td>\n",
       "      <td>0</td>\n",
       "      <td>0</td>\n",
       "    </tr>\n",
       "    <tr>\n",
       "      <th>1</th>\n",
       "      <td>chr6</td>\n",
       "      <td>1395</td>\n",
       "      <td>3</td>\n",
       "      <td>0</td>\n",
       "      <td>0</td>\n",
       "    </tr>\n",
       "    <tr>\n",
       "      <th>2</th>\n",
       "      <td>chr6</td>\n",
       "      <td>1366</td>\n",
       "      <td>0</td>\n",
       "      <td>0</td>\n",
       "      <td>0</td>\n",
       "    </tr>\n",
       "    <tr>\n",
       "      <th>3</th>\n",
       "      <td>chr1</td>\n",
       "      <td>520</td>\n",
       "      <td>3</td>\n",
       "      <td>3</td>\n",
       "      <td>0</td>\n",
       "    </tr>\n",
       "    <tr>\n",
       "      <th>4</th>\n",
       "      <td>chr1</td>\n",
       "      <td>584</td>\n",
       "      <td>0</td>\n",
       "      <td>0</td>\n",
       "      <td>0</td>\n",
       "    </tr>\n",
       "    <tr>\n",
       "      <th>5</th>\n",
       "      <td>chr1</td>\n",
       "      <td>338</td>\n",
       "      <td>0</td>\n",
       "      <td>0</td>\n",
       "      <td>0</td>\n",
       "    </tr>\n",
       "  </tbody>\n",
       "</table>\n",
       "</div>"
      ],
      "text/plain": [
       "    chr rloop_pos left_loop_cnt right_loop_cnt inner_loop_cnt\n",
       "0  chr6      1682             0              0              0\n",
       "1  chr6      1395             3              0              0\n",
       "2  chr6      1366             0              0              0\n",
       "3  chr1       520             3              3              0\n",
       "4  chr1       584             0              0              0\n",
       "5  chr1       338             0              0              0"
      ]
     },
     "execution_count": 85,
     "metadata": {},
     "output_type": "execute_result"
    }
   ],
   "source": [
    "df_rloop"
   ]
  },
  {
   "cell_type": "code",
   "execution_count": 84,
   "metadata": {
    "scrolled": true
   },
   "outputs": [
    {
     "data": {
      "text/html": [
       "<div>\n",
       "<style scoped>\n",
       "    .dataframe tbody tr th:only-of-type {\n",
       "        vertical-align: middle;\n",
       "    }\n",
       "\n",
       "    .dataframe tbody tr th {\n",
       "        vertical-align: top;\n",
       "    }\n",
       "\n",
       "    .dataframe thead th {\n",
       "        text-align: right;\n",
       "    }\n",
       "</style>\n",
       "<table border=\"1\" class=\"dataframe\">\n",
       "  <thead>\n",
       "    <tr style=\"text-align: right;\">\n",
       "      <th></th>\n",
       "      <th>chr</th>\n",
       "      <th>rloop_pos</th>\n",
       "      <th>left_loop_cnt</th>\n",
       "      <th>right_loop_cnt</th>\n",
       "      <th>inner_loop_cnt</th>\n",
       "    </tr>\n",
       "  </thead>\n",
       "  <tbody>\n",
       "    <tr>\n",
       "      <th>0</th>\n",
       "      <td>chr6</td>\n",
       "      <td>1682</td>\n",
       "      <td>0</td>\n",
       "      <td>0</td>\n",
       "      <td>0</td>\n",
       "    </tr>\n",
       "    <tr>\n",
       "      <th>1</th>\n",
       "      <td>chr6</td>\n",
       "      <td>1395</td>\n",
       "      <td>1</td>\n",
       "      <td>0</td>\n",
       "      <td>0</td>\n",
       "    </tr>\n",
       "    <tr>\n",
       "      <th>2</th>\n",
       "      <td>chr6</td>\n",
       "      <td>1366</td>\n",
       "      <td>0</td>\n",
       "      <td>0</td>\n",
       "      <td>0</td>\n",
       "    </tr>\n",
       "    <tr>\n",
       "      <th>3</th>\n",
       "      <td>chr1</td>\n",
       "      <td>520</td>\n",
       "      <td>1</td>\n",
       "      <td>1</td>\n",
       "      <td>0</td>\n",
       "    </tr>\n",
       "    <tr>\n",
       "      <th>4</th>\n",
       "      <td>chr1</td>\n",
       "      <td>584</td>\n",
       "      <td>0</td>\n",
       "      <td>0</td>\n",
       "      <td>0</td>\n",
       "    </tr>\n",
       "    <tr>\n",
       "      <th>5</th>\n",
       "      <td>chr1</td>\n",
       "      <td>338</td>\n",
       "      <td>0</td>\n",
       "      <td>0</td>\n",
       "      <td>0</td>\n",
       "    </tr>\n",
       "  </tbody>\n",
       "</table>\n",
       "</div>"
      ],
      "text/plain": [
       "    chr rloop_pos left_loop_cnt right_loop_cnt inner_loop_cnt\n",
       "0  chr6      1682             0              0              0\n",
       "1  chr6      1395             1              0              0\n",
       "2  chr6      1366             0              0              0\n",
       "3  chr1       520             1              1              0\n",
       "4  chr1       584             0              0              0\n",
       "5  chr1       338             0              0              0"
      ]
     },
     "execution_count": 84,
     "metadata": {},
     "output_type": "execute_result"
    }
   ],
   "source": [
    "df_merged_rloop"
   ]
  }
 ],
 "metadata": {
  "kernelspec": {
   "display_name": "Python 2",
   "language": "python",
   "name": "python2"
  },
  "language_info": {
   "codemirror_mode": {
    "name": "ipython",
    "version": 2
   },
   "file_extension": ".py",
   "mimetype": "text/x-python",
   "name": "python",
   "nbconvert_exporter": "python",
   "pygments_lexer": "ipython2",
   "version": "2.7.15"
  }
 },
 "nbformat": 4,
 "nbformat_minor": 2
}
