{
 "cells": [
  {
   "cell_type": "markdown",
   "metadata": {},
   "source": [
    "# A/T/G/C-состав, GC, AT, ATG, TGC-состав, содержание K-меров"
   ]
  },
  {
   "cell_type": "code",
   "execution_count": 1,
   "metadata": {
    "collapsed": true
   },
   "outputs": [],
   "source": [
    "from Bio import SeqIO"
   ]
  },
  {
   "cell_type": "code",
   "execution_count": 2,
   "metadata": {
    "collapsed": true
   },
   "outputs": [],
   "source": [
    "def chrom_intervals_dict(filename):\n",
    "    chrom_intervals = {}\n",
    "    with open(filename) as f:\n",
    "        for line in f:\n",
    "            name, start, stop = line.split()\n",
    "            chrom_interval = chrom_intervals.get(name, [])\n",
    "            chrom_interval.append(tuple([int(start), int(stop)]))\n",
    "            chrom_intervals[name] = chrom_interval        \n",
    "    return chrom_intervals\n",
    "    \n",
    "def calc_counts(str, chars_names):\n",
    "    str = str.upper()\n",
    "    dict ={}\n",
    "    dict = dict.fromkeys(chars_names, 0)\n",
    "    for i in xrange(0, len(str)-2):\n",
    "        nuc_name = str[i] # A, C, T, G\n",
    "        two_mer_name = nuc_name + str[i+1] # AA, AC, .., GT, GG\n",
    "        three_mer_name = two_mer_name + str[i+2] # AAA, AAC, ..., GGT, GGG\n",
    "\n",
    "        dict[nuc_name] = dict.get(nuc_name, 0) + 1;\n",
    "        dict[two_mer_name] = dict.get(two_mer_name, 0) + 1;\n",
    "        dict[three_mer_name] = dict.get(three_mer_name, 0) + 1;\n",
    "\n",
    "    prevlast_nuc_name = str[len(str)-2]\n",
    "    last_two_mer_name = prevlast_nuc_name + str[len(str)-1]\n",
    "    last_nuc_name = str[len(str)-1]\n",
    "    dict[prevlast_nuc_name] = dict.get(prevlast_nuc_name, 0) + 1;\n",
    "    dict[last_two_mer_name] = dict.get(last_two_mer_name, 0) + 1;\n",
    "    dict[last_nuc_name] = dict.get(last_nuc_name, 0) + 1;\n",
    "    # Добавляем АТ и GC:\n",
    "    dict['A/T'] = dict.get('A', 0) + dict.get('T', 0)\n",
    "    dict['G/C'] = dict.get('G', 0) + dict.get('C', 0)\n",
    "    dict['A/T/G'] = dict.get('A', 0) + dict.get('T', 0) + dict.get('G', 0)\n",
    "    dict['T/G/C'] = dict.get('T', 0) + dict.get('G', 0) + dict.get('C', 0)\n",
    "    return dict\n",
    "\n",
    "def get_charachteristics_names():\n",
    "    names = ['A', 'C', 'T', 'G']\n",
    "    chars = []\n",
    "    for n in names:\n",
    "        chars.append(n)\n",
    "        for n2 in names:\n",
    "            chars.append(n + n2)\n",
    "            for n3 in names:\n",
    "                chars.append(n + n2 + n3)\n",
    "    sortedKmers = sorted(chars, key = lambda k: (len(k), k))\n",
    "    sortedKmers.insert(4, 'G/C')\n",
    "    sortedKmers.insert(5, 'A/T')\n",
    "    sortedKmers.insert(6, 'A/T/G')\n",
    "    sortedKmers.insert(7, 'T/G/C')\n",
    "    return sortedKmers\n",
    "\n",
    "#считаем нуклеотидный и динуклеотидный состав (количество)\n",
    "def calc_new_counts(str, chars_names, dict):\n",
    "    for i in xrange(0, len(str)-2):\n",
    "        nuc_name = str[i].upper() # A, C, T, G\n",
    "        two_mer_name = nuc_name + str[i+1].upper() # AA, AC, .., GT, GG\n",
    "\n",
    "        dict[nuc_name] = dict.get(nuc_name, 0) + 1;\n",
    "        dict[two_mer_name] = dict.get(two_mer_name, 0) + 1;\n",
    "\n",
    "    prevlast_nuc_name = str[len(str)-2].upper()\n",
    "    last_two_mer_name = prevlast_nuc_name + str[len(str)-1].upper()\n",
    "    last_nuc_name = str[len(str)-1].upper()\n",
    "    dict[prevlast_nuc_name] = dict.get(prevlast_nuc_name, 0) + 1;\n",
    "    dict[last_two_mer_name] = dict.get(last_two_mer_name, 0) + 1;\n",
    "    dict[last_nuc_name] = dict.get(last_nuc_name, 0) + 1;\n",
    "    return dict"
   ]
  },
  {
   "cell_type": "code",
   "execution_count": 3,
   "metadata": {},
   "outputs": [
    {
     "data": {
      "text/plain": [
       "88"
      ]
     },
     "execution_count": 3,
     "metadata": {},
     "output_type": "execute_result"
    }
   ],
   "source": [
    "len(get_charachteristics_names())"
   ]
  },
  {
   "cell_type": "code",
   "execution_count": 66,
   "metadata": {
    "collapsed": true
   },
   "outputs": [],
   "source": [
    "chroms_intervals = chrom_intervals_dict('../data/genome.windows.bed')"
   ]
  },
  {
   "cell_type": "code",
   "execution_count": 88,
   "metadata": {
    "collapsed": true
   },
   "outputs": [],
   "source": [
    "def get_chrom_name(fasta):\n",
    "    # Достаем имя хромосомы и последовательность\n",
    "    chrom_name_def = \"Chromosome: \"\n",
    "    chrom = fasta.description\n",
    "    index = chrom.find(chrom_name_def)\n",
    "    right_bound_index = None\n",
    "    #print index, right_bound_index\n",
    "    if (index == -1):\n",
    "        chrom_name_def = 'chr'\n",
    "        index = chrom.index(chrom_name_def)\n",
    "    else:\n",
    "        right_bound_index = index + chrom[index:].index(\" \")\n",
    "        index = chrom.index(chrom_name_def) + len(chrom_name_def)\n",
    "    name = chrom[index : right_bound_index]\n",
    "    #print chrom, index, right_bound_index, name\n",
    "    return name"
   ]
  },
  {
   "cell_type": "code",
   "execution_count": 246,
   "metadata": {
    "collapsed": true
   },
   "outputs": [],
   "source": [
    "fasta_sequences = SeqIO.parse(open('../data/dicty.fa'),'fasta')\n",
    "with open('../data/my_res.tsv', 'w') as out, open('../data/my_res2.tsv', 'w') as out2:\n",
    "    # Записываем названия колонок для итогового файла\n",
    "    charachteristics_names = get_charachteristics_names()\n",
    "    columns = str(charachteristics_names).replace('[', '')\n",
    "    columns = columns.replace(']', '')\n",
    "    columns = columns.replace('\\'', '')\n",
    "    columns = columns.replace(', ', '\\t')\n",
    "    out.write('chrom\\tstart of bin\\tend of bin\\t' + columns + '\\n')\n",
    "    out2.write('nucleotides\\tfrequency\\tbins\\t\\n')\n",
    "    \n",
    "    for fasta in fasta_sequences:\n",
    "        # Достаем имя хромосомы и последовательность\n",
    "        chrom = fasta.description\n",
    "        name = fasta.name\n",
    "        sequence = fasta.seq.tostring()\n",
    "        \n",
    "        for chrom_interval in chroms_intervals[name]:\n",
    "            start = chrom_interval[0]\n",
    "            stop = chrom_interval[1]\n",
    "            charachteristics = calc_counts(sequence[start : stop], charachteristics_names) # Считаем количество \n",
    "            length = (stop-start) - sequence[start : stop].count('n') - sequence[start : stop].count('N') + 1\n",
    "            charachteristics = {k: round((v * 1.0) / (length-len(k)), 2) for k, v in charachteristics.iteritems()} # Считаем в %\n",
    "            \n",
    "            for (key, value) in charachteristics.iteritems():\n",
    "                row2 = key + '\\t' + str(value) + '\\t' + str(start) + '_' + str(stop) + '\\t\\n'\n",
    "                out2.write(row2)\n",
    "            \n",
    "            row = name + '\\t' + str(start) + '\\t' + str(stop) + '\\t'\n",
    "            for char_name in charachteristics_names:\n",
    "                row = row + str(charachteristics.get(char_name, 0)) + '\\t'\n",
    "            out.write(row + '\\n')\n",
    "            "
   ]
  },
  {
   "cell_type": "markdown",
   "metadata": {},
   "source": [
    "## Новые данные"
   ]
  },
  {
   "cell_type": "code",
   "execution_count": 213,
   "metadata": {},
   "outputs": [
    {
     "name": "stdout",
     "output_type": "stream",
     "text": [
      "/Users/victoria/Desktop/ДИПЛОМ/MotifsSearch/data/genomes/dm3/dm3.fa\n",
      "/Users/victoria/Desktop/ДИПЛОМ/MotifsSearch/data/genomes/ce10/ce10.fa\n"
     ]
    }
   ],
   "source": [
    "# с новым файлом\n",
    "#genome_names = ['danRer7', 'danRer10', 'galGal4', 'hg19', 'hg38', 'dm3', 'dm6', 'ce10', 'dicty']\n",
    "genome_names = ['dm3', 'ce10']\n",
    "file_path = '/Users/victoria/Desktop/ДИПЛОМ/MotifsSearch/data/genomes/'\n",
    "all_genomes_freqs = {}\n",
    "for genome_name in genome_names:\n",
    "    filename = file_path + genome_name + '/' + genome_name + '.fa'\n",
    "    print filename\n",
    "    fasta_sequences = SeqIO.parse(open(filename),'fasta')\n",
    "    with open('../data/new_res_' + genome_name + '.tsv', 'w') as out:\n",
    "        # Записываем названия колонок для итогового файла\n",
    "        charachteristics_names = get_charachteristics_names()\n",
    "        columns = str(charachteristics_names).replace('[', '')\n",
    "        columns = columns.replace(']', '')\n",
    "        columns = columns.replace('\\'', '')\n",
    "        columns = columns.replace(',', '\\t')\n",
    "        out.write('chrom\\t' + columns + '\\n')\n",
    "        charachteristics ={}\n",
    "        charachteristics = dict.fromkeys(charachteristics_names, 0)\n",
    "        genome_len = 0\n",
    "\n",
    "        for fasta in fasta_sequences:\n",
    "            # Достаем имя хромосомы и последовательность\n",
    "            name = fasta.name #get_chrom_name(fasta)\n",
    "            sequence = fasta.seq.tostring()\n",
    "\n",
    "            chrom_len = len(sequence) - sequence.count('N') - sequence.count('n')\n",
    "            genome_len = genome_len + chrom_len\n",
    "            charachteristics = calc_new_counts(sequence, charachteristics_names, charachteristics) # Считаем количество \n",
    "\n",
    "        charachteristics_percent = {k: round((v * 1.0) / (genome_len-len(k)+1), 2) for k, v in charachteristics.iteritems()} # Считаем в %\n",
    "        all_genomes_freqs[genome_name] = charachteristics_percent # запоминаем состав для всех геномов в словаре\n",
    "        row = 'croms' + '\\t'\n",
    "        percent_row = 'percents' + '_%\\t'\n",
    "        for char_name in charachteristics_names:\n",
    "            row = row + str(charachteristics.get(char_name, 0)) + '\\t'\n",
    "            percent_row = percent_row + str(charachteristics_percent.get(char_name, 0)) + '\\t'\n",
    "        out.write(row + '\\n')\n",
    "        out.write(percent_row + '\\n')"
   ]
  }
 ],
 "metadata": {
  "kernelspec": {
   "display_name": "Python 2",
   "language": "python",
   "name": "python2"
  },
  "language_info": {
   "codemirror_mode": {
    "name": "ipython",
    "version": 2
   },
   "file_extension": ".py",
   "mimetype": "text/x-python",
   "name": "python",
   "nbconvert_exporter": "python",
   "pygments_lexer": "ipython2",
   "version": "2.7.15"
  }
 },
 "nbformat": 4,
 "nbformat_minor": 2
}
